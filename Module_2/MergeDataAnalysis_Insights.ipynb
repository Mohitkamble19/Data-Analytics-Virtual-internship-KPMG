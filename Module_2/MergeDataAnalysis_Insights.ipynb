{
  "nbformat": 4,
  "nbformat_minor": 0,
  "metadata": {
    "colab": {
      "provenance": []
    },
    "kernelspec": {
      "name": "python3",
      "display_name": "Python 3"
    },
    "language_info": {
      "name": "python"
    }
  },
  "cells": [
    {
      "cell_type": "markdown",
      "source": [
        "## ***Data Analysis***"
      ],
      "metadata": {
        "id": "uy7W_khC-aTi"
      }
    },
    {
      "cell_type": "markdown",
      "source": [],
      "metadata": {
        "id": "OMrLh-R4-bmz"
      }
    },
    {
      "cell_type": "code",
      "execution_count": null,
      "metadata": {
        "id": "fspt13Bvy0s8"
      },
      "outputs": [],
      "source": [
        "import pandas as pd\n",
        "import numpy as np\n",
        "import matplotlib.pyplot as plt\n",
        "import seaborn as sns\n",
        "import datetime as dt\n",
        "%matplotlib inline"
      ]
    },
    {
      "cell_type": "code",
      "source": [
        "csv1=pd.read_csv(\"/content/data1_clean.csv\")\n",
        "csv2=pd.read_csv(\"/content/data2_clean.csv\")\n",
        "csv3=pd.read_csv(\"/content/data3_clean.csv\")\n",
        "csv4=pd.read_csv(\"/content/data4_clean.csv\")"
      ],
      "metadata": {
        "id": "nY1PpWt11AE9"
      },
      "execution_count": null,
      "outputs": []
    },
    {
      "cell_type": "code",
      "source": [
        "csv1_2=pd.merge(csv1,csv2, on=[\"customer_id\"])\n",
        "csv1_2_3=pd.merge(csv1_2,csv3, on=[\"customer_id\"])"
      ],
      "metadata": {
        "id": "JhjTeK5P19tL"
      },
      "execution_count": null,
      "outputs": []
    },
    {
      "cell_type": "code",
      "source": [
        "csv1_2_3.to_csv( \"merged.csv\", index=False, encoding='utf-8-sig')\n"
      ],
      "metadata": {
        "id": "IOe5dLhY2f7a"
      },
      "execution_count": null,
      "outputs": []
    },
    {
      "cell_type": "code",
      "source": [
        "df = csv1_2_3.sort_values(by=['customer_id'])\n"
      ],
      "metadata": {
        "id": "F0xN8PqW2ngr"
      },
      "execution_count": null,
      "outputs": []
    },
    {
      "cell_type": "code",
      "source": [
        "df"
      ],
      "metadata": {
        "colab": {
          "base_uri": "https://localhost:8080/",
          "height": 661
        },
        "id": "chLQCxib2u-6",
        "outputId": "ced11a29-9e97-48cc-a2c3-9bc73cd21f2e"
      },
      "execution_count": null,
      "outputs": [
        {
          "output_type": "execute_result",
          "data": {
            "text/plain": [
              "       customer_id first_name  last_name  gender  \\\n",
              "0                1    Laraine  Medendorp  Female   \n",
              "10               1    Laraine  Medendorp  Female   \n",
              "8                1    Laraine  Medendorp  Female   \n",
              "7                1    Laraine  Medendorp  Female   \n",
              "6                1    Laraine  Medendorp  Female   \n",
              "...            ...        ...        ...     ...   \n",
              "19964         3500       Josy    Fleeman  Female   \n",
              "19966         3500       Josy    Fleeman  Female   \n",
              "19962         3500       Josy    Fleeman  Female   \n",
              "19963         3500       Josy    Fleeman  Female   \n",
              "19967         3500       Josy    Fleeman  Female   \n",
              "\n",
              "       past_3_years_bike_related_purchases         dob            job_title  \\\n",
              "0                                       93  1953-10-12  Executive Secretary   \n",
              "10                                      93  1953-10-12  Executive Secretary   \n",
              "8                                       93  1953-10-12  Executive Secretary   \n",
              "7                                       93  1953-10-12  Executive Secretary   \n",
              "6                                       93  1953-10-12  Executive Secretary   \n",
              "...                                    ...         ...                  ...   \n",
              "19964                                   71  1967-07-21             Operator   \n",
              "19966                                   71  1967-07-21             Operator   \n",
              "19962                                   71  1967-07-21             Operator   \n",
              "19963                                   71  1967-07-21             Operator   \n",
              "19967                                   71  1967-07-21             Operator   \n",
              "\n",
              "      job_industry_category     wealth_segment  deceased_indicator  ...  \\\n",
              "0                    Health      Mass Customer               False  ...   \n",
              "10                   Health      Mass Customer               False  ...   \n",
              "8                    Health      Mass Customer               False  ...   \n",
              "7                    Health      Mass Customer               False  ...   \n",
              "6                    Health      Mass Customer               False  ...   \n",
              "...                     ...                ...                 ...  ...   \n",
              "19964         Entertainment  Affluent Customer               False  ...   \n",
              "19966         Entertainment  Affluent Customer               False  ...   \n",
              "19962         Entertainment  Affluent Customer               False  ...   \n",
              "19963         Entertainment  Affluent Customer               False  ...   \n",
              "19967         Entertainment  Affluent Customer               False  ...   \n",
              "\n",
              "                    transaction_date  online_order order_status  \\\n",
              "0      2017-01-05 00:00:00.000000000           0.0     Approved   \n",
              "10     2017-12-23 00:00:00.000000000           0.0     Approved   \n",
              "8      2017-12-09 00:00:00.000000000           1.0     Approved   \n",
              "7      2017-06-04 00:00:00.000000000           1.0     Approved   \n",
              "6      2017-05-19 00:00:00.000000000           0.0     Approved   \n",
              "...                              ...           ...          ...   \n",
              "19964  2017-02-16 00:00:00.000000000           0.0     Approved   \n",
              "19966  2017-04-25 00:00:00.000000000           0.0     Approved   \n",
              "19962  2017-01-09 00:00:00.000000000           1.0     Approved   \n",
              "19963  2017-01-11 00:00:00.000000000           0.0     Approved   \n",
              "19967  2017-08-08 00:00:00.000000000           0.0     Approved   \n",
              "\n",
              "                brand product_line product_class  product_size  list_price  \\\n",
              "0      Norco Bicycles     Standard        medium        medium      360.40   \n",
              "10         OHM Cycles     Standard        medium        medium      235.63   \n",
              "8          OHM Cycles         Road        medium        medium      742.54   \n",
              "7      Giant Bicycles     Standard        medium        medium      642.70   \n",
              "6      Giant Bicycles         Road        medium        medium     1538.99   \n",
              "...               ...          ...           ...           ...         ...   \n",
              "19964        WeareA2B     Standard        medium        medium     1228.07   \n",
              "19966           Solex     Standard        medium        medium       71.49   \n",
              "19962  Giant Bicycles         Road        medium        medium      792.90   \n",
              "19963        WeareA2B     Standard        medium        medium       60.34   \n",
              "19967  Giant Bicycles     Standard        medium         small     1311.44   \n",
              "\n",
              "       standard_cost        product_first_sold_date  \n",
              "0             270.30  1970-01-01 10:31:13.000000000  \n",
              "10            125.07  1970-01-01 10:41:22.000000000  \n",
              "8             667.40  1970-01-01 10:30:38.000000000  \n",
              "7             211.37  1970-01-01 11:16:58.000000000  \n",
              "6             829.65  1970-01-01 09:19:12.000000000  \n",
              "...              ...                            ...  \n",
              "19964         400.91  1970-01-01 10:11:08.000000000  \n",
              "19966          53.62  1970-01-01 11:27:25.000000000  \n",
              "19962         594.68  1970-01-01 09:24:39.000000000  \n",
              "19963          45.26  1970-01-01 09:29:25.000000000  \n",
              "19967        1167.18  1970-01-01 09:24:48.000000000  \n",
              "\n",
              "[19968 rows x 29 columns]"
            ],
            "text/html": [
              "\n",
              "  <div id=\"df-b51be2bd-cf95-422d-818e-71e4fc9919af\">\n",
              "    <div class=\"colab-df-container\">\n",
              "      <div>\n",
              "<style scoped>\n",
              "    .dataframe tbody tr th:only-of-type {\n",
              "        vertical-align: middle;\n",
              "    }\n",
              "\n",
              "    .dataframe tbody tr th {\n",
              "        vertical-align: top;\n",
              "    }\n",
              "\n",
              "    .dataframe thead th {\n",
              "        text-align: right;\n",
              "    }\n",
              "</style>\n",
              "<table border=\"1\" class=\"dataframe\">\n",
              "  <thead>\n",
              "    <tr style=\"text-align: right;\">\n",
              "      <th></th>\n",
              "      <th>customer_id</th>\n",
              "      <th>first_name</th>\n",
              "      <th>last_name</th>\n",
              "      <th>gender</th>\n",
              "      <th>past_3_years_bike_related_purchases</th>\n",
              "      <th>dob</th>\n",
              "      <th>job_title</th>\n",
              "      <th>job_industry_category</th>\n",
              "      <th>wealth_segment</th>\n",
              "      <th>deceased_indicator</th>\n",
              "      <th>...</th>\n",
              "      <th>transaction_date</th>\n",
              "      <th>online_order</th>\n",
              "      <th>order_status</th>\n",
              "      <th>brand</th>\n",
              "      <th>product_line</th>\n",
              "      <th>product_class</th>\n",
              "      <th>product_size</th>\n",
              "      <th>list_price</th>\n",
              "      <th>standard_cost</th>\n",
              "      <th>product_first_sold_date</th>\n",
              "    </tr>\n",
              "  </thead>\n",
              "  <tbody>\n",
              "    <tr>\n",
              "      <th>0</th>\n",
              "      <td>1</td>\n",
              "      <td>Laraine</td>\n",
              "      <td>Medendorp</td>\n",
              "      <td>Female</td>\n",
              "      <td>93</td>\n",
              "      <td>1953-10-12</td>\n",
              "      <td>Executive Secretary</td>\n",
              "      <td>Health</td>\n",
              "      <td>Mass Customer</td>\n",
              "      <td>False</td>\n",
              "      <td>...</td>\n",
              "      <td>2017-01-05 00:00:00.000000000</td>\n",
              "      <td>0.0</td>\n",
              "      <td>Approved</td>\n",
              "      <td>Norco Bicycles</td>\n",
              "      <td>Standard</td>\n",
              "      <td>medium</td>\n",
              "      <td>medium</td>\n",
              "      <td>360.40</td>\n",
              "      <td>270.30</td>\n",
              "      <td>1970-01-01 10:31:13.000000000</td>\n",
              "    </tr>\n",
              "    <tr>\n",
              "      <th>10</th>\n",
              "      <td>1</td>\n",
              "      <td>Laraine</td>\n",
              "      <td>Medendorp</td>\n",
              "      <td>Female</td>\n",
              "      <td>93</td>\n",
              "      <td>1953-10-12</td>\n",
              "      <td>Executive Secretary</td>\n",
              "      <td>Health</td>\n",
              "      <td>Mass Customer</td>\n",
              "      <td>False</td>\n",
              "      <td>...</td>\n",
              "      <td>2017-12-23 00:00:00.000000000</td>\n",
              "      <td>0.0</td>\n",
              "      <td>Approved</td>\n",
              "      <td>OHM Cycles</td>\n",
              "      <td>Standard</td>\n",
              "      <td>medium</td>\n",
              "      <td>medium</td>\n",
              "      <td>235.63</td>\n",
              "      <td>125.07</td>\n",
              "      <td>1970-01-01 10:41:22.000000000</td>\n",
              "    </tr>\n",
              "    <tr>\n",
              "      <th>8</th>\n",
              "      <td>1</td>\n",
              "      <td>Laraine</td>\n",
              "      <td>Medendorp</td>\n",
              "      <td>Female</td>\n",
              "      <td>93</td>\n",
              "      <td>1953-10-12</td>\n",
              "      <td>Executive Secretary</td>\n",
              "      <td>Health</td>\n",
              "      <td>Mass Customer</td>\n",
              "      <td>False</td>\n",
              "      <td>...</td>\n",
              "      <td>2017-12-09 00:00:00.000000000</td>\n",
              "      <td>1.0</td>\n",
              "      <td>Approved</td>\n",
              "      <td>OHM Cycles</td>\n",
              "      <td>Road</td>\n",
              "      <td>medium</td>\n",
              "      <td>medium</td>\n",
              "      <td>742.54</td>\n",
              "      <td>667.40</td>\n",
              "      <td>1970-01-01 10:30:38.000000000</td>\n",
              "    </tr>\n",
              "    <tr>\n",
              "      <th>7</th>\n",
              "      <td>1</td>\n",
              "      <td>Laraine</td>\n",
              "      <td>Medendorp</td>\n",
              "      <td>Female</td>\n",
              "      <td>93</td>\n",
              "      <td>1953-10-12</td>\n",
              "      <td>Executive Secretary</td>\n",
              "      <td>Health</td>\n",
              "      <td>Mass Customer</td>\n",
              "      <td>False</td>\n",
              "      <td>...</td>\n",
              "      <td>2017-06-04 00:00:00.000000000</td>\n",
              "      <td>1.0</td>\n",
              "      <td>Approved</td>\n",
              "      <td>Giant Bicycles</td>\n",
              "      <td>Standard</td>\n",
              "      <td>medium</td>\n",
              "      <td>medium</td>\n",
              "      <td>642.70</td>\n",
              "      <td>211.37</td>\n",
              "      <td>1970-01-01 11:16:58.000000000</td>\n",
              "    </tr>\n",
              "    <tr>\n",
              "      <th>6</th>\n",
              "      <td>1</td>\n",
              "      <td>Laraine</td>\n",
              "      <td>Medendorp</td>\n",
              "      <td>Female</td>\n",
              "      <td>93</td>\n",
              "      <td>1953-10-12</td>\n",
              "      <td>Executive Secretary</td>\n",
              "      <td>Health</td>\n",
              "      <td>Mass Customer</td>\n",
              "      <td>False</td>\n",
              "      <td>...</td>\n",
              "      <td>2017-05-19 00:00:00.000000000</td>\n",
              "      <td>0.0</td>\n",
              "      <td>Approved</td>\n",
              "      <td>Giant Bicycles</td>\n",
              "      <td>Road</td>\n",
              "      <td>medium</td>\n",
              "      <td>medium</td>\n",
              "      <td>1538.99</td>\n",
              "      <td>829.65</td>\n",
              "      <td>1970-01-01 09:19:12.000000000</td>\n",
              "    </tr>\n",
              "    <tr>\n",
              "      <th>...</th>\n",
              "      <td>...</td>\n",
              "      <td>...</td>\n",
              "      <td>...</td>\n",
              "      <td>...</td>\n",
              "      <td>...</td>\n",
              "      <td>...</td>\n",
              "      <td>...</td>\n",
              "      <td>...</td>\n",
              "      <td>...</td>\n",
              "      <td>...</td>\n",
              "      <td>...</td>\n",
              "      <td>...</td>\n",
              "      <td>...</td>\n",
              "      <td>...</td>\n",
              "      <td>...</td>\n",
              "      <td>...</td>\n",
              "      <td>...</td>\n",
              "      <td>...</td>\n",
              "      <td>...</td>\n",
              "      <td>...</td>\n",
              "      <td>...</td>\n",
              "    </tr>\n",
              "    <tr>\n",
              "      <th>19964</th>\n",
              "      <td>3500</td>\n",
              "      <td>Josy</td>\n",
              "      <td>Fleeman</td>\n",
              "      <td>Female</td>\n",
              "      <td>71</td>\n",
              "      <td>1967-07-21</td>\n",
              "      <td>Operator</td>\n",
              "      <td>Entertainment</td>\n",
              "      <td>Affluent Customer</td>\n",
              "      <td>False</td>\n",
              "      <td>...</td>\n",
              "      <td>2017-02-16 00:00:00.000000000</td>\n",
              "      <td>0.0</td>\n",
              "      <td>Approved</td>\n",
              "      <td>WeareA2B</td>\n",
              "      <td>Standard</td>\n",
              "      <td>medium</td>\n",
              "      <td>medium</td>\n",
              "      <td>1228.07</td>\n",
              "      <td>400.91</td>\n",
              "      <td>1970-01-01 10:11:08.000000000</td>\n",
              "    </tr>\n",
              "    <tr>\n",
              "      <th>19966</th>\n",
              "      <td>3500</td>\n",
              "      <td>Josy</td>\n",
              "      <td>Fleeman</td>\n",
              "      <td>Female</td>\n",
              "      <td>71</td>\n",
              "      <td>1967-07-21</td>\n",
              "      <td>Operator</td>\n",
              "      <td>Entertainment</td>\n",
              "      <td>Affluent Customer</td>\n",
              "      <td>False</td>\n",
              "      <td>...</td>\n",
              "      <td>2017-04-25 00:00:00.000000000</td>\n",
              "      <td>0.0</td>\n",
              "      <td>Approved</td>\n",
              "      <td>Solex</td>\n",
              "      <td>Standard</td>\n",
              "      <td>medium</td>\n",
              "      <td>medium</td>\n",
              "      <td>71.49</td>\n",
              "      <td>53.62</td>\n",
              "      <td>1970-01-01 11:27:25.000000000</td>\n",
              "    </tr>\n",
              "    <tr>\n",
              "      <th>19962</th>\n",
              "      <td>3500</td>\n",
              "      <td>Josy</td>\n",
              "      <td>Fleeman</td>\n",
              "      <td>Female</td>\n",
              "      <td>71</td>\n",
              "      <td>1967-07-21</td>\n",
              "      <td>Operator</td>\n",
              "      <td>Entertainment</td>\n",
              "      <td>Affluent Customer</td>\n",
              "      <td>False</td>\n",
              "      <td>...</td>\n",
              "      <td>2017-01-09 00:00:00.000000000</td>\n",
              "      <td>1.0</td>\n",
              "      <td>Approved</td>\n",
              "      <td>Giant Bicycles</td>\n",
              "      <td>Road</td>\n",
              "      <td>medium</td>\n",
              "      <td>medium</td>\n",
              "      <td>792.90</td>\n",
              "      <td>594.68</td>\n",
              "      <td>1970-01-01 09:24:39.000000000</td>\n",
              "    </tr>\n",
              "    <tr>\n",
              "      <th>19963</th>\n",
              "      <td>3500</td>\n",
              "      <td>Josy</td>\n",
              "      <td>Fleeman</td>\n",
              "      <td>Female</td>\n",
              "      <td>71</td>\n",
              "      <td>1967-07-21</td>\n",
              "      <td>Operator</td>\n",
              "      <td>Entertainment</td>\n",
              "      <td>Affluent Customer</td>\n",
              "      <td>False</td>\n",
              "      <td>...</td>\n",
              "      <td>2017-01-11 00:00:00.000000000</td>\n",
              "      <td>0.0</td>\n",
              "      <td>Approved</td>\n",
              "      <td>WeareA2B</td>\n",
              "      <td>Standard</td>\n",
              "      <td>medium</td>\n",
              "      <td>medium</td>\n",
              "      <td>60.34</td>\n",
              "      <td>45.26</td>\n",
              "      <td>1970-01-01 09:29:25.000000000</td>\n",
              "    </tr>\n",
              "    <tr>\n",
              "      <th>19967</th>\n",
              "      <td>3500</td>\n",
              "      <td>Josy</td>\n",
              "      <td>Fleeman</td>\n",
              "      <td>Female</td>\n",
              "      <td>71</td>\n",
              "      <td>1967-07-21</td>\n",
              "      <td>Operator</td>\n",
              "      <td>Entertainment</td>\n",
              "      <td>Affluent Customer</td>\n",
              "      <td>False</td>\n",
              "      <td>...</td>\n",
              "      <td>2017-08-08 00:00:00.000000000</td>\n",
              "      <td>0.0</td>\n",
              "      <td>Approved</td>\n",
              "      <td>Giant Bicycles</td>\n",
              "      <td>Standard</td>\n",
              "      <td>medium</td>\n",
              "      <td>small</td>\n",
              "      <td>1311.44</td>\n",
              "      <td>1167.18</td>\n",
              "      <td>1970-01-01 09:24:48.000000000</td>\n",
              "    </tr>\n",
              "  </tbody>\n",
              "</table>\n",
              "<p>19968 rows × 29 columns</p>\n",
              "</div>\n",
              "      <button class=\"colab-df-convert\" onclick=\"convertToInteractive('df-b51be2bd-cf95-422d-818e-71e4fc9919af')\"\n",
              "              title=\"Convert this dataframe to an interactive table.\"\n",
              "              style=\"display:none;\">\n",
              "        \n",
              "  <svg xmlns=\"http://www.w3.org/2000/svg\" height=\"24px\"viewBox=\"0 0 24 24\"\n",
              "       width=\"24px\">\n",
              "    <path d=\"M0 0h24v24H0V0z\" fill=\"none\"/>\n",
              "    <path d=\"M18.56 5.44l.94 2.06.94-2.06 2.06-.94-2.06-.94-.94-2.06-.94 2.06-2.06.94zm-11 1L8.5 8.5l.94-2.06 2.06-.94-2.06-.94L8.5 2.5l-.94 2.06-2.06.94zm10 10l.94 2.06.94-2.06 2.06-.94-2.06-.94-.94-2.06-.94 2.06-2.06.94z\"/><path d=\"M17.41 7.96l-1.37-1.37c-.4-.4-.92-.59-1.43-.59-.52 0-1.04.2-1.43.59L10.3 9.45l-7.72 7.72c-.78.78-.78 2.05 0 2.83L4 21.41c.39.39.9.59 1.41.59.51 0 1.02-.2 1.41-.59l7.78-7.78 2.81-2.81c.8-.78.8-2.07 0-2.86zM5.41 20L4 18.59l7.72-7.72 1.47 1.35L5.41 20z\"/>\n",
              "  </svg>\n",
              "      </button>\n",
              "      \n",
              "  <style>\n",
              "    .colab-df-container {\n",
              "      display:flex;\n",
              "      flex-wrap:wrap;\n",
              "      gap: 12px;\n",
              "    }\n",
              "\n",
              "    .colab-df-convert {\n",
              "      background-color: #E8F0FE;\n",
              "      border: none;\n",
              "      border-radius: 50%;\n",
              "      cursor: pointer;\n",
              "      display: none;\n",
              "      fill: #1967D2;\n",
              "      height: 32px;\n",
              "      padding: 0 0 0 0;\n",
              "      width: 32px;\n",
              "    }\n",
              "\n",
              "    .colab-df-convert:hover {\n",
              "      background-color: #E2EBFA;\n",
              "      box-shadow: 0px 1px 2px rgba(60, 64, 67, 0.3), 0px 1px 3px 1px rgba(60, 64, 67, 0.15);\n",
              "      fill: #174EA6;\n",
              "    }\n",
              "\n",
              "    [theme=dark] .colab-df-convert {\n",
              "      background-color: #3B4455;\n",
              "      fill: #D2E3FC;\n",
              "    }\n",
              "\n",
              "    [theme=dark] .colab-df-convert:hover {\n",
              "      background-color: #434B5C;\n",
              "      box-shadow: 0px 1px 3px 1px rgba(0, 0, 0, 0.15);\n",
              "      filter: drop-shadow(0px 1px 2px rgba(0, 0, 0, 0.3));\n",
              "      fill: #FFFFFF;\n",
              "    }\n",
              "  </style>\n",
              "\n",
              "      <script>\n",
              "        const buttonEl =\n",
              "          document.querySelector('#df-b51be2bd-cf95-422d-818e-71e4fc9919af button.colab-df-convert');\n",
              "        buttonEl.style.display =\n",
              "          google.colab.kernel.accessAllowed ? 'block' : 'none';\n",
              "\n",
              "        async function convertToInteractive(key) {\n",
              "          const element = document.querySelector('#df-b51be2bd-cf95-422d-818e-71e4fc9919af');\n",
              "          const dataTable =\n",
              "            await google.colab.kernel.invokeFunction('convertToInteractive',\n",
              "                                                     [key], {});\n",
              "          if (!dataTable) return;\n",
              "\n",
              "          const docLinkHtml = 'Like what you see? Visit the ' +\n",
              "            '<a target=\"_blank\" href=https://colab.research.google.com/notebooks/data_table.ipynb>data table notebook</a>'\n",
              "            + ' to learn more about interactive tables.';\n",
              "          element.innerHTML = '';\n",
              "          dataTable['output_type'] = 'display_data';\n",
              "          await google.colab.output.renderOutput(dataTable, element);\n",
              "          const docLink = document.createElement('div');\n",
              "          docLink.innerHTML = docLinkHtml;\n",
              "          element.appendChild(docLink);\n",
              "        }\n",
              "      </script>\n",
              "    </div>\n",
              "  </div>\n",
              "  "
            ]
          },
          "metadata": {},
          "execution_count": 13
        }
      ]
    },
    {
      "cell_type": "code",
      "source": [
        "df.info()"
      ],
      "metadata": {
        "colab": {
          "base_uri": "https://localhost:8080/"
        },
        "id": "Bjrbxt0n2wQZ",
        "outputId": "12e5048d-9612-4e4d-ee3c-37f47890e8a4"
      },
      "execution_count": null,
      "outputs": [
        {
          "output_type": "stream",
          "name": "stdout",
          "text": [
            "<class 'pandas.core.frame.DataFrame'>\n",
            "Int64Index: 19968 entries, 0 to 19967\n",
            "Data columns (total 29 columns):\n",
            " #   Column                               Non-Null Count  Dtype  \n",
            "---  ------                               --------------  -----  \n",
            " 0   customer_id                          19968 non-null  int64  \n",
            " 1   first_name                           19968 non-null  object \n",
            " 2   last_name                            19326 non-null  object \n",
            " 3   gender                               19968 non-null  object \n",
            " 4   past_3_years_bike_related_purchases  19968 non-null  int64  \n",
            " 5   dob                                  19968 non-null  object \n",
            " 6   job_title                            19968 non-null  object \n",
            " 7   job_industry_category                19968 non-null  object \n",
            " 8   wealth_segment                       19968 non-null  object \n",
            " 9   deceased_indicator                   19968 non-null  bool   \n",
            " 10  owns_car                             19968 non-null  bool   \n",
            " 11  tenure                               19968 non-null  float64\n",
            " 12  address                              19968 non-null  object \n",
            " 13  postcode                             19968 non-null  int64  \n",
            " 14  state                                19968 non-null  object \n",
            " 15  country                              19968 non-null  object \n",
            " 16  property_valuation                   19968 non-null  int64  \n",
            " 17  transaction_id                       19968 non-null  int64  \n",
            " 18  product_id                           19968 non-null  int64  \n",
            " 19  transaction_date                     19968 non-null  object \n",
            " 20  online_order                         19968 non-null  float64\n",
            " 21  order_status                         19968 non-null  object \n",
            " 22  brand                                19968 non-null  object \n",
            " 23  product_line                         19968 non-null  object \n",
            " 24  product_class                        19968 non-null  object \n",
            " 25  product_size                         19968 non-null  object \n",
            " 26  list_price                           19968 non-null  float64\n",
            " 27  standard_cost                        19968 non-null  float64\n",
            " 28  product_first_sold_date              19968 non-null  object \n",
            "dtypes: bool(2), float64(4), int64(6), object(17)\n",
            "memory usage: 4.3+ MB\n"
          ]
        }
      ]
    },
    {
      "cell_type": "code",
      "source": [
        "df.describe()"
      ],
      "metadata": {
        "colab": {
          "base_uri": "https://localhost:8080/",
          "height": 364
        },
        "id": "BQuhBn5z5nQY",
        "outputId": "2e669e43-0a12-44f2-ec84-5447f87e509f"
      },
      "execution_count": null,
      "outputs": [
        {
          "output_type": "execute_result",
          "data": {
            "text/plain": [
              "        customer_id  past_3_years_bike_related_purchases        tenure  \\\n",
              "count  19968.000000                         19968.000000  19968.000000   \n",
              "mean    1740.254307                            48.757412     10.689052   \n",
              "std     1009.819066                            28.611359      5.611093   \n",
              "min        1.000000                             0.000000      1.000000   \n",
              "25%      861.750000                            24.000000      6.000000   \n",
              "50%     1739.500000                            48.000000     11.000000   \n",
              "75%     2614.250000                            73.000000     15.000000   \n",
              "max     3500.000000                            99.000000     22.000000   \n",
              "\n",
              "           postcode  property_valuation  transaction_id    product_id  \\\n",
              "count  19968.000000        19968.000000    19968.000000  19968.000000   \n",
              "mean    2987.623347            7.516376     9997.846504     45.365986   \n",
              "std      851.306647            2.824783     5773.929973     30.750115   \n",
              "min     2000.000000            1.000000        1.000000      0.000000   \n",
              "25%     2200.000000            6.000000     4997.750000     18.000000   \n",
              "50%     2767.000000            8.000000     9996.500000     44.000000   \n",
              "75%     3754.000000           10.000000    14996.250000     72.000000   \n",
              "max     4883.000000           12.000000    20000.000000    100.000000   \n",
              "\n",
              "       online_order    list_price  standard_cost  \n",
              "count  19968.000000  19968.000000   19968.000000  \n",
              "mean       0.501102   1107.780004     556.090619  \n",
              "std        0.500011    582.852548     403.979251  \n",
              "min        0.000000     12.010000       7.210000  \n",
              "25%        0.000000    575.270000     215.140000  \n",
              "50%        1.000000   1163.890000     507.580000  \n",
              "75%        1.000000   1635.300000     795.100000  \n",
              "max        1.000000   2091.470000    1759.850000  "
            ],
            "text/html": [
              "\n",
              "  <div id=\"df-2d356d07-7823-4929-96b1-a85f02a11e78\">\n",
              "    <div class=\"colab-df-container\">\n",
              "      <div>\n",
              "<style scoped>\n",
              "    .dataframe tbody tr th:only-of-type {\n",
              "        vertical-align: middle;\n",
              "    }\n",
              "\n",
              "    .dataframe tbody tr th {\n",
              "        vertical-align: top;\n",
              "    }\n",
              "\n",
              "    .dataframe thead th {\n",
              "        text-align: right;\n",
              "    }\n",
              "</style>\n",
              "<table border=\"1\" class=\"dataframe\">\n",
              "  <thead>\n",
              "    <tr style=\"text-align: right;\">\n",
              "      <th></th>\n",
              "      <th>customer_id</th>\n",
              "      <th>past_3_years_bike_related_purchases</th>\n",
              "      <th>tenure</th>\n",
              "      <th>postcode</th>\n",
              "      <th>property_valuation</th>\n",
              "      <th>transaction_id</th>\n",
              "      <th>product_id</th>\n",
              "      <th>online_order</th>\n",
              "      <th>list_price</th>\n",
              "      <th>standard_cost</th>\n",
              "    </tr>\n",
              "  </thead>\n",
              "  <tbody>\n",
              "    <tr>\n",
              "      <th>count</th>\n",
              "      <td>19968.000000</td>\n",
              "      <td>19968.000000</td>\n",
              "      <td>19968.000000</td>\n",
              "      <td>19968.000000</td>\n",
              "      <td>19968.000000</td>\n",
              "      <td>19968.000000</td>\n",
              "      <td>19968.000000</td>\n",
              "      <td>19968.000000</td>\n",
              "      <td>19968.000000</td>\n",
              "      <td>19968.000000</td>\n",
              "    </tr>\n",
              "    <tr>\n",
              "      <th>mean</th>\n",
              "      <td>1740.254307</td>\n",
              "      <td>48.757412</td>\n",
              "      <td>10.689052</td>\n",
              "      <td>2987.623347</td>\n",
              "      <td>7.516376</td>\n",
              "      <td>9997.846504</td>\n",
              "      <td>45.365986</td>\n",
              "      <td>0.501102</td>\n",
              "      <td>1107.780004</td>\n",
              "      <td>556.090619</td>\n",
              "    </tr>\n",
              "    <tr>\n",
              "      <th>std</th>\n",
              "      <td>1009.819066</td>\n",
              "      <td>28.611359</td>\n",
              "      <td>5.611093</td>\n",
              "      <td>851.306647</td>\n",
              "      <td>2.824783</td>\n",
              "      <td>5773.929973</td>\n",
              "      <td>30.750115</td>\n",
              "      <td>0.500011</td>\n",
              "      <td>582.852548</td>\n",
              "      <td>403.979251</td>\n",
              "    </tr>\n",
              "    <tr>\n",
              "      <th>min</th>\n",
              "      <td>1.000000</td>\n",
              "      <td>0.000000</td>\n",
              "      <td>1.000000</td>\n",
              "      <td>2000.000000</td>\n",
              "      <td>1.000000</td>\n",
              "      <td>1.000000</td>\n",
              "      <td>0.000000</td>\n",
              "      <td>0.000000</td>\n",
              "      <td>12.010000</td>\n",
              "      <td>7.210000</td>\n",
              "    </tr>\n",
              "    <tr>\n",
              "      <th>25%</th>\n",
              "      <td>861.750000</td>\n",
              "      <td>24.000000</td>\n",
              "      <td>6.000000</td>\n",
              "      <td>2200.000000</td>\n",
              "      <td>6.000000</td>\n",
              "      <td>4997.750000</td>\n",
              "      <td>18.000000</td>\n",
              "      <td>0.000000</td>\n",
              "      <td>575.270000</td>\n",
              "      <td>215.140000</td>\n",
              "    </tr>\n",
              "    <tr>\n",
              "      <th>50%</th>\n",
              "      <td>1739.500000</td>\n",
              "      <td>48.000000</td>\n",
              "      <td>11.000000</td>\n",
              "      <td>2767.000000</td>\n",
              "      <td>8.000000</td>\n",
              "      <td>9996.500000</td>\n",
              "      <td>44.000000</td>\n",
              "      <td>1.000000</td>\n",
              "      <td>1163.890000</td>\n",
              "      <td>507.580000</td>\n",
              "    </tr>\n",
              "    <tr>\n",
              "      <th>75%</th>\n",
              "      <td>2614.250000</td>\n",
              "      <td>73.000000</td>\n",
              "      <td>15.000000</td>\n",
              "      <td>3754.000000</td>\n",
              "      <td>10.000000</td>\n",
              "      <td>14996.250000</td>\n",
              "      <td>72.000000</td>\n",
              "      <td>1.000000</td>\n",
              "      <td>1635.300000</td>\n",
              "      <td>795.100000</td>\n",
              "    </tr>\n",
              "    <tr>\n",
              "      <th>max</th>\n",
              "      <td>3500.000000</td>\n",
              "      <td>99.000000</td>\n",
              "      <td>22.000000</td>\n",
              "      <td>4883.000000</td>\n",
              "      <td>12.000000</td>\n",
              "      <td>20000.000000</td>\n",
              "      <td>100.000000</td>\n",
              "      <td>1.000000</td>\n",
              "      <td>2091.470000</td>\n",
              "      <td>1759.850000</td>\n",
              "    </tr>\n",
              "  </tbody>\n",
              "</table>\n",
              "</div>\n",
              "      <button class=\"colab-df-convert\" onclick=\"convertToInteractive('df-2d356d07-7823-4929-96b1-a85f02a11e78')\"\n",
              "              title=\"Convert this dataframe to an interactive table.\"\n",
              "              style=\"display:none;\">\n",
              "        \n",
              "  <svg xmlns=\"http://www.w3.org/2000/svg\" height=\"24px\"viewBox=\"0 0 24 24\"\n",
              "       width=\"24px\">\n",
              "    <path d=\"M0 0h24v24H0V0z\" fill=\"none\"/>\n",
              "    <path d=\"M18.56 5.44l.94 2.06.94-2.06 2.06-.94-2.06-.94-.94-2.06-.94 2.06-2.06.94zm-11 1L8.5 8.5l.94-2.06 2.06-.94-2.06-.94L8.5 2.5l-.94 2.06-2.06.94zm10 10l.94 2.06.94-2.06 2.06-.94-2.06-.94-.94-2.06-.94 2.06-2.06.94z\"/><path d=\"M17.41 7.96l-1.37-1.37c-.4-.4-.92-.59-1.43-.59-.52 0-1.04.2-1.43.59L10.3 9.45l-7.72 7.72c-.78.78-.78 2.05 0 2.83L4 21.41c.39.39.9.59 1.41.59.51 0 1.02-.2 1.41-.59l7.78-7.78 2.81-2.81c.8-.78.8-2.07 0-2.86zM5.41 20L4 18.59l7.72-7.72 1.47 1.35L5.41 20z\"/>\n",
              "  </svg>\n",
              "      </button>\n",
              "      \n",
              "  <style>\n",
              "    .colab-df-container {\n",
              "      display:flex;\n",
              "      flex-wrap:wrap;\n",
              "      gap: 12px;\n",
              "    }\n",
              "\n",
              "    .colab-df-convert {\n",
              "      background-color: #E8F0FE;\n",
              "      border: none;\n",
              "      border-radius: 50%;\n",
              "      cursor: pointer;\n",
              "      display: none;\n",
              "      fill: #1967D2;\n",
              "      height: 32px;\n",
              "      padding: 0 0 0 0;\n",
              "      width: 32px;\n",
              "    }\n",
              "\n",
              "    .colab-df-convert:hover {\n",
              "      background-color: #E2EBFA;\n",
              "      box-shadow: 0px 1px 2px rgba(60, 64, 67, 0.3), 0px 1px 3px 1px rgba(60, 64, 67, 0.15);\n",
              "      fill: #174EA6;\n",
              "    }\n",
              "\n",
              "    [theme=dark] .colab-df-convert {\n",
              "      background-color: #3B4455;\n",
              "      fill: #D2E3FC;\n",
              "    }\n",
              "\n",
              "    [theme=dark] .colab-df-convert:hover {\n",
              "      background-color: #434B5C;\n",
              "      box-shadow: 0px 1px 3px 1px rgba(0, 0, 0, 0.15);\n",
              "      filter: drop-shadow(0px 1px 2px rgba(0, 0, 0, 0.3));\n",
              "      fill: #FFFFFF;\n",
              "    }\n",
              "  </style>\n",
              "\n",
              "      <script>\n",
              "        const buttonEl =\n",
              "          document.querySelector('#df-2d356d07-7823-4929-96b1-a85f02a11e78 button.colab-df-convert');\n",
              "        buttonEl.style.display =\n",
              "          google.colab.kernel.accessAllowed ? 'block' : 'none';\n",
              "\n",
              "        async function convertToInteractive(key) {\n",
              "          const element = document.querySelector('#df-2d356d07-7823-4929-96b1-a85f02a11e78');\n",
              "          const dataTable =\n",
              "            await google.colab.kernel.invokeFunction('convertToInteractive',\n",
              "                                                     [key], {});\n",
              "          if (!dataTable) return;\n",
              "\n",
              "          const docLinkHtml = 'Like what you see? Visit the ' +\n",
              "            '<a target=\"_blank\" href=https://colab.research.google.com/notebooks/data_table.ipynb>data table notebook</a>'\n",
              "            + ' to learn more about interactive tables.';\n",
              "          element.innerHTML = '';\n",
              "          dataTable['output_type'] = 'display_data';\n",
              "          await google.colab.output.renderOutput(dataTable, element);\n",
              "          const docLink = document.createElement('div');\n",
              "          docLink.innerHTML = docLinkHtml;\n",
              "          element.appendChild(docLink);\n",
              "        }\n",
              "      </script>\n",
              "    </div>\n",
              "  </div>\n",
              "  "
            ]
          },
          "metadata": {},
          "execution_count": 16
        }
      ]
    },
    {
      "cell_type": "code",
      "source": [
        "df.corr()"
      ],
      "metadata": {
        "colab": {
          "base_uri": "https://localhost:8080/",
          "height": 489
        },
        "id": "prgJOLsT5pnm",
        "outputId": "97ae80c9-4ff8-4c8c-ac28-5533a19386aa"
      },
      "execution_count": null,
      "outputs": [
        {
          "output_type": "execute_result",
          "data": {
            "text/plain": [
              "                                     customer_id  \\\n",
              "customer_id                             1.000000   \n",
              "past_3_years_bike_related_purchases     0.000984   \n",
              "deceased_indicator                     -0.019573   \n",
              "owns_car                                0.026477   \n",
              "tenure                                 -0.024557   \n",
              "postcode                                0.024927   \n",
              "property_valuation                     -0.005602   \n",
              "transaction_id                          0.001993   \n",
              "product_id                              0.005322   \n",
              "online_order                            0.001596   \n",
              "list_price                              0.010255   \n",
              "standard_cost                           0.005435   \n",
              "\n",
              "                                     past_3_years_bike_related_purchases  \\\n",
              "customer_id                                                     0.000984   \n",
              "past_3_years_bike_related_purchases                             1.000000   \n",
              "deceased_indicator                                              0.023261   \n",
              "owns_car                                                        0.002013   \n",
              "tenure                                                         -0.021048   \n",
              "postcode                                                       -0.017359   \n",
              "property_valuation                                              0.012140   \n",
              "transaction_id                                                 -0.001370   \n",
              "product_id                                                      0.001602   \n",
              "online_order                                                    0.003887   \n",
              "list_price                                                      0.006786   \n",
              "standard_cost                                                  -0.008669   \n",
              "\n",
              "                                     deceased_indicator  owns_car    tenure  \\\n",
              "customer_id                                   -0.019573  0.026477 -0.024557   \n",
              "past_3_years_bike_related_purchases            0.023261  0.002013 -0.021048   \n",
              "deceased_indicator                             1.000000  0.019904 -0.016731   \n",
              "owns_car                                       0.019904  1.000000 -0.003311   \n",
              "tenure                                        -0.016731 -0.003311  1.000000   \n",
              "postcode                                      -0.009257 -0.019044  0.011709   \n",
              "property_valuation                            -0.032010  0.053315 -0.019217   \n",
              "transaction_id                                 0.009182 -0.013057  0.005493   \n",
              "product_id                                    -0.000320 -0.036272 -0.006661   \n",
              "online_order                                  -0.000044  0.002191  0.010806   \n",
              "list_price                                     0.013195  0.024756 -0.004747   \n",
              "standard_cost                                 -0.001490  0.019538 -0.013783   \n",
              "\n",
              "                                     postcode  property_valuation  \\\n",
              "customer_id                          0.024927           -0.005602   \n",
              "past_3_years_bike_related_purchases -0.017359            0.012140   \n",
              "deceased_indicator                  -0.009257           -0.032010   \n",
              "owns_car                            -0.019044            0.053315   \n",
              "tenure                               0.011709           -0.019217   \n",
              "postcode                             1.000000           -0.517971   \n",
              "property_valuation                  -0.517971            1.000000   \n",
              "transaction_id                       0.003566           -0.003118   \n",
              "product_id                           0.011806           -0.004522   \n",
              "online_order                         0.000859           -0.002690   \n",
              "list_price                           0.013058           -0.009743   \n",
              "standard_cost                        0.008907           -0.000051   \n",
              "\n",
              "                                     transaction_id  product_id  online_order  \\\n",
              "customer_id                                0.001993    0.005322      0.001596   \n",
              "past_3_years_bike_related_purchases       -0.001370    0.001602      0.003887   \n",
              "deceased_indicator                         0.009182   -0.000320     -0.000044   \n",
              "owns_car                                  -0.013057   -0.036272      0.002191   \n",
              "tenure                                     0.005493   -0.006661      0.010806   \n",
              "postcode                                   0.003566    0.011806      0.000859   \n",
              "property_valuation                        -0.003118   -0.004522     -0.002690   \n",
              "transaction_id                             1.000000   -0.011741      0.005205   \n",
              "product_id                                -0.011741    1.000000     -0.004792   \n",
              "online_order                               0.005205   -0.004792      1.000000   \n",
              "list_price                                -0.005744    0.089925     -0.000829   \n",
              "standard_cost                             -0.002759    0.038473      0.007464   \n",
              "\n",
              "                                     list_price  standard_cost  \n",
              "customer_id                            0.010255       0.005435  \n",
              "past_3_years_bike_related_purchases    0.006786      -0.008669  \n",
              "deceased_indicator                     0.013195      -0.001490  \n",
              "owns_car                               0.024756       0.019538  \n",
              "tenure                                -0.004747      -0.013783  \n",
              "postcode                               0.013058       0.008907  \n",
              "property_valuation                    -0.009743      -0.000051  \n",
              "transaction_id                        -0.005744      -0.002759  \n",
              "product_id                             0.089925       0.038473  \n",
              "online_order                          -0.000829       0.007464  \n",
              "list_price                             1.000000       0.548830  \n",
              "standard_cost                          0.548830       1.000000  "
            ],
            "text/html": [
              "\n",
              "  <div id=\"df-75e04b2d-6520-4c4a-888d-ade0d386fd51\">\n",
              "    <div class=\"colab-df-container\">\n",
              "      <div>\n",
              "<style scoped>\n",
              "    .dataframe tbody tr th:only-of-type {\n",
              "        vertical-align: middle;\n",
              "    }\n",
              "\n",
              "    .dataframe tbody tr th {\n",
              "        vertical-align: top;\n",
              "    }\n",
              "\n",
              "    .dataframe thead th {\n",
              "        text-align: right;\n",
              "    }\n",
              "</style>\n",
              "<table border=\"1\" class=\"dataframe\">\n",
              "  <thead>\n",
              "    <tr style=\"text-align: right;\">\n",
              "      <th></th>\n",
              "      <th>customer_id</th>\n",
              "      <th>past_3_years_bike_related_purchases</th>\n",
              "      <th>deceased_indicator</th>\n",
              "      <th>owns_car</th>\n",
              "      <th>tenure</th>\n",
              "      <th>postcode</th>\n",
              "      <th>property_valuation</th>\n",
              "      <th>transaction_id</th>\n",
              "      <th>product_id</th>\n",
              "      <th>online_order</th>\n",
              "      <th>list_price</th>\n",
              "      <th>standard_cost</th>\n",
              "    </tr>\n",
              "  </thead>\n",
              "  <tbody>\n",
              "    <tr>\n",
              "      <th>customer_id</th>\n",
              "      <td>1.000000</td>\n",
              "      <td>0.000984</td>\n",
              "      <td>-0.019573</td>\n",
              "      <td>0.026477</td>\n",
              "      <td>-0.024557</td>\n",
              "      <td>0.024927</td>\n",
              "      <td>-0.005602</td>\n",
              "      <td>0.001993</td>\n",
              "      <td>0.005322</td>\n",
              "      <td>0.001596</td>\n",
              "      <td>0.010255</td>\n",
              "      <td>0.005435</td>\n",
              "    </tr>\n",
              "    <tr>\n",
              "      <th>past_3_years_bike_related_purchases</th>\n",
              "      <td>0.000984</td>\n",
              "      <td>1.000000</td>\n",
              "      <td>0.023261</td>\n",
              "      <td>0.002013</td>\n",
              "      <td>-0.021048</td>\n",
              "      <td>-0.017359</td>\n",
              "      <td>0.012140</td>\n",
              "      <td>-0.001370</td>\n",
              "      <td>0.001602</td>\n",
              "      <td>0.003887</td>\n",
              "      <td>0.006786</td>\n",
              "      <td>-0.008669</td>\n",
              "    </tr>\n",
              "    <tr>\n",
              "      <th>deceased_indicator</th>\n",
              "      <td>-0.019573</td>\n",
              "      <td>0.023261</td>\n",
              "      <td>1.000000</td>\n",
              "      <td>0.019904</td>\n",
              "      <td>-0.016731</td>\n",
              "      <td>-0.009257</td>\n",
              "      <td>-0.032010</td>\n",
              "      <td>0.009182</td>\n",
              "      <td>-0.000320</td>\n",
              "      <td>-0.000044</td>\n",
              "      <td>0.013195</td>\n",
              "      <td>-0.001490</td>\n",
              "    </tr>\n",
              "    <tr>\n",
              "      <th>owns_car</th>\n",
              "      <td>0.026477</td>\n",
              "      <td>0.002013</td>\n",
              "      <td>0.019904</td>\n",
              "      <td>1.000000</td>\n",
              "      <td>-0.003311</td>\n",
              "      <td>-0.019044</td>\n",
              "      <td>0.053315</td>\n",
              "      <td>-0.013057</td>\n",
              "      <td>-0.036272</td>\n",
              "      <td>0.002191</td>\n",
              "      <td>0.024756</td>\n",
              "      <td>0.019538</td>\n",
              "    </tr>\n",
              "    <tr>\n",
              "      <th>tenure</th>\n",
              "      <td>-0.024557</td>\n",
              "      <td>-0.021048</td>\n",
              "      <td>-0.016731</td>\n",
              "      <td>-0.003311</td>\n",
              "      <td>1.000000</td>\n",
              "      <td>0.011709</td>\n",
              "      <td>-0.019217</td>\n",
              "      <td>0.005493</td>\n",
              "      <td>-0.006661</td>\n",
              "      <td>0.010806</td>\n",
              "      <td>-0.004747</td>\n",
              "      <td>-0.013783</td>\n",
              "    </tr>\n",
              "    <tr>\n",
              "      <th>postcode</th>\n",
              "      <td>0.024927</td>\n",
              "      <td>-0.017359</td>\n",
              "      <td>-0.009257</td>\n",
              "      <td>-0.019044</td>\n",
              "      <td>0.011709</td>\n",
              "      <td>1.000000</td>\n",
              "      <td>-0.517971</td>\n",
              "      <td>0.003566</td>\n",
              "      <td>0.011806</td>\n",
              "      <td>0.000859</td>\n",
              "      <td>0.013058</td>\n",
              "      <td>0.008907</td>\n",
              "    </tr>\n",
              "    <tr>\n",
              "      <th>property_valuation</th>\n",
              "      <td>-0.005602</td>\n",
              "      <td>0.012140</td>\n",
              "      <td>-0.032010</td>\n",
              "      <td>0.053315</td>\n",
              "      <td>-0.019217</td>\n",
              "      <td>-0.517971</td>\n",
              "      <td>1.000000</td>\n",
              "      <td>-0.003118</td>\n",
              "      <td>-0.004522</td>\n",
              "      <td>-0.002690</td>\n",
              "      <td>-0.009743</td>\n",
              "      <td>-0.000051</td>\n",
              "    </tr>\n",
              "    <tr>\n",
              "      <th>transaction_id</th>\n",
              "      <td>0.001993</td>\n",
              "      <td>-0.001370</td>\n",
              "      <td>0.009182</td>\n",
              "      <td>-0.013057</td>\n",
              "      <td>0.005493</td>\n",
              "      <td>0.003566</td>\n",
              "      <td>-0.003118</td>\n",
              "      <td>1.000000</td>\n",
              "      <td>-0.011741</td>\n",
              "      <td>0.005205</td>\n",
              "      <td>-0.005744</td>\n",
              "      <td>-0.002759</td>\n",
              "    </tr>\n",
              "    <tr>\n",
              "      <th>product_id</th>\n",
              "      <td>0.005322</td>\n",
              "      <td>0.001602</td>\n",
              "      <td>-0.000320</td>\n",
              "      <td>-0.036272</td>\n",
              "      <td>-0.006661</td>\n",
              "      <td>0.011806</td>\n",
              "      <td>-0.004522</td>\n",
              "      <td>-0.011741</td>\n",
              "      <td>1.000000</td>\n",
              "      <td>-0.004792</td>\n",
              "      <td>0.089925</td>\n",
              "      <td>0.038473</td>\n",
              "    </tr>\n",
              "    <tr>\n",
              "      <th>online_order</th>\n",
              "      <td>0.001596</td>\n",
              "      <td>0.003887</td>\n",
              "      <td>-0.000044</td>\n",
              "      <td>0.002191</td>\n",
              "      <td>0.010806</td>\n",
              "      <td>0.000859</td>\n",
              "      <td>-0.002690</td>\n",
              "      <td>0.005205</td>\n",
              "      <td>-0.004792</td>\n",
              "      <td>1.000000</td>\n",
              "      <td>-0.000829</td>\n",
              "      <td>0.007464</td>\n",
              "    </tr>\n",
              "    <tr>\n",
              "      <th>list_price</th>\n",
              "      <td>0.010255</td>\n",
              "      <td>0.006786</td>\n",
              "      <td>0.013195</td>\n",
              "      <td>0.024756</td>\n",
              "      <td>-0.004747</td>\n",
              "      <td>0.013058</td>\n",
              "      <td>-0.009743</td>\n",
              "      <td>-0.005744</td>\n",
              "      <td>0.089925</td>\n",
              "      <td>-0.000829</td>\n",
              "      <td>1.000000</td>\n",
              "      <td>0.548830</td>\n",
              "    </tr>\n",
              "    <tr>\n",
              "      <th>standard_cost</th>\n",
              "      <td>0.005435</td>\n",
              "      <td>-0.008669</td>\n",
              "      <td>-0.001490</td>\n",
              "      <td>0.019538</td>\n",
              "      <td>-0.013783</td>\n",
              "      <td>0.008907</td>\n",
              "      <td>-0.000051</td>\n",
              "      <td>-0.002759</td>\n",
              "      <td>0.038473</td>\n",
              "      <td>0.007464</td>\n",
              "      <td>0.548830</td>\n",
              "      <td>1.000000</td>\n",
              "    </tr>\n",
              "  </tbody>\n",
              "</table>\n",
              "</div>\n",
              "      <button class=\"colab-df-convert\" onclick=\"convertToInteractive('df-75e04b2d-6520-4c4a-888d-ade0d386fd51')\"\n",
              "              title=\"Convert this dataframe to an interactive table.\"\n",
              "              style=\"display:none;\">\n",
              "        \n",
              "  <svg xmlns=\"http://www.w3.org/2000/svg\" height=\"24px\"viewBox=\"0 0 24 24\"\n",
              "       width=\"24px\">\n",
              "    <path d=\"M0 0h24v24H0V0z\" fill=\"none\"/>\n",
              "    <path d=\"M18.56 5.44l.94 2.06.94-2.06 2.06-.94-2.06-.94-.94-2.06-.94 2.06-2.06.94zm-11 1L8.5 8.5l.94-2.06 2.06-.94-2.06-.94L8.5 2.5l-.94 2.06-2.06.94zm10 10l.94 2.06.94-2.06 2.06-.94-2.06-.94-.94-2.06-.94 2.06-2.06.94z\"/><path d=\"M17.41 7.96l-1.37-1.37c-.4-.4-.92-.59-1.43-.59-.52 0-1.04.2-1.43.59L10.3 9.45l-7.72 7.72c-.78.78-.78 2.05 0 2.83L4 21.41c.39.39.9.59 1.41.59.51 0 1.02-.2 1.41-.59l7.78-7.78 2.81-2.81c.8-.78.8-2.07 0-2.86zM5.41 20L4 18.59l7.72-7.72 1.47 1.35L5.41 20z\"/>\n",
              "  </svg>\n",
              "      </button>\n",
              "      \n",
              "  <style>\n",
              "    .colab-df-container {\n",
              "      display:flex;\n",
              "      flex-wrap:wrap;\n",
              "      gap: 12px;\n",
              "    }\n",
              "\n",
              "    .colab-df-convert {\n",
              "      background-color: #E8F0FE;\n",
              "      border: none;\n",
              "      border-radius: 50%;\n",
              "      cursor: pointer;\n",
              "      display: none;\n",
              "      fill: #1967D2;\n",
              "      height: 32px;\n",
              "      padding: 0 0 0 0;\n",
              "      width: 32px;\n",
              "    }\n",
              "\n",
              "    .colab-df-convert:hover {\n",
              "      background-color: #E2EBFA;\n",
              "      box-shadow: 0px 1px 2px rgba(60, 64, 67, 0.3), 0px 1px 3px 1px rgba(60, 64, 67, 0.15);\n",
              "      fill: #174EA6;\n",
              "    }\n",
              "\n",
              "    [theme=dark] .colab-df-convert {\n",
              "      background-color: #3B4455;\n",
              "      fill: #D2E3FC;\n",
              "    }\n",
              "\n",
              "    [theme=dark] .colab-df-convert:hover {\n",
              "      background-color: #434B5C;\n",
              "      box-shadow: 0px 1px 3px 1px rgba(0, 0, 0, 0.15);\n",
              "      filter: drop-shadow(0px 1px 2px rgba(0, 0, 0, 0.3));\n",
              "      fill: #FFFFFF;\n",
              "    }\n",
              "  </style>\n",
              "\n",
              "      <script>\n",
              "        const buttonEl =\n",
              "          document.querySelector('#df-75e04b2d-6520-4c4a-888d-ade0d386fd51 button.colab-df-convert');\n",
              "        buttonEl.style.display =\n",
              "          google.colab.kernel.accessAllowed ? 'block' : 'none';\n",
              "\n",
              "        async function convertToInteractive(key) {\n",
              "          const element = document.querySelector('#df-75e04b2d-6520-4c4a-888d-ade0d386fd51');\n",
              "          const dataTable =\n",
              "            await google.colab.kernel.invokeFunction('convertToInteractive',\n",
              "                                                     [key], {});\n",
              "          if (!dataTable) return;\n",
              "\n",
              "          const docLinkHtml = 'Like what you see? Visit the ' +\n",
              "            '<a target=\"_blank\" href=https://colab.research.google.com/notebooks/data_table.ipynb>data table notebook</a>'\n",
              "            + ' to learn more about interactive tables.';\n",
              "          element.innerHTML = '';\n",
              "          dataTable['output_type'] = 'display_data';\n",
              "          await google.colab.output.renderOutput(dataTable, element);\n",
              "          const docLink = document.createElement('div');\n",
              "          docLink.innerHTML = docLinkHtml;\n",
              "          element.appendChild(docLink);\n",
              "        }\n",
              "      </script>\n",
              "    </div>\n",
              "  </div>\n",
              "  "
            ]
          },
          "metadata": {},
          "execution_count": 17
        }
      ]
    },
    {
      "cell_type": "code",
      "source": [
        "df.isnull().sum()"
      ],
      "metadata": {
        "colab": {
          "base_uri": "https://localhost:8080/"
        },
        "id": "S-XZAOvM51o3",
        "outputId": "e3343a31-2ab1-4b59-dd2e-7b1ef47ffd6b"
      },
      "execution_count": null,
      "outputs": [
        {
          "output_type": "execute_result",
          "data": {
            "text/plain": [
              "customer_id                              0\n",
              "first_name                               0\n",
              "last_name                              642\n",
              "gender                                   0\n",
              "past_3_years_bike_related_purchases      0\n",
              "dob                                      0\n",
              "job_title                                0\n",
              "job_industry_category                    0\n",
              "wealth_segment                           0\n",
              "deceased_indicator                       0\n",
              "owns_car                                 0\n",
              "tenure                                   0\n",
              "address                                  0\n",
              "postcode                                 0\n",
              "state                                    0\n",
              "country                                  0\n",
              "property_valuation                       0\n",
              "transaction_id                           0\n",
              "product_id                               0\n",
              "transaction_date                         0\n",
              "online_order                             0\n",
              "order_status                             0\n",
              "brand                                    0\n",
              "product_line                             0\n",
              "product_class                            0\n",
              "product_size                             0\n",
              "list_price                               0\n",
              "standard_cost                            0\n",
              "product_first_sold_date                  0\n",
              "dtype: int64"
            ]
          },
          "metadata": {},
          "execution_count": 18
        }
      ]
    },
    {
      "cell_type": "code",
      "source": [
        "df[\"last_name\"].fillna(method=\"ffill\", inplace=True)"
      ],
      "metadata": {
        "id": "R9Wko9uE6EBS"
      },
      "execution_count": null,
      "outputs": []
    },
    {
      "cell_type": "code",
      "source": [
        "df.isnull().sum()"
      ],
      "metadata": {
        "colab": {
          "base_uri": "https://localhost:8080/"
        },
        "id": "S0KJwRWG6Y0_",
        "outputId": "46d9b58d-00b0-4939-9c8d-77cd8833f438"
      },
      "execution_count": null,
      "outputs": [
        {
          "output_type": "execute_result",
          "data": {
            "text/plain": [
              "customer_id                            0\n",
              "first_name                             0\n",
              "last_name                              0\n",
              "gender                                 0\n",
              "past_3_years_bike_related_purchases    0\n",
              "dob                                    0\n",
              "job_title                              0\n",
              "job_industry_category                  0\n",
              "wealth_segment                         0\n",
              "deceased_indicator                     0\n",
              "owns_car                               0\n",
              "tenure                                 0\n",
              "address                                0\n",
              "postcode                               0\n",
              "state                                  0\n",
              "country                                0\n",
              "property_valuation                     0\n",
              "transaction_id                         0\n",
              "product_id                             0\n",
              "transaction_date                       0\n",
              "online_order                           0\n",
              "order_status                           0\n",
              "brand                                  0\n",
              "product_line                           0\n",
              "product_class                          0\n",
              "product_size                           0\n",
              "list_price                             0\n",
              "standard_cost                          0\n",
              "product_first_sold_date                0\n",
              "dtype: int64"
            ]
          },
          "metadata": {},
          "execution_count": 20
        }
      ]
    },
    {
      "cell_type": "code",
      "source": [
        "df['dob'] = df['dob'].apply(pd.to_datetime)\n"
      ],
      "metadata": {
        "id": "lv3tPVz66bxI"
      },
      "execution_count": null,
      "outputs": []
    },
    {
      "cell_type": "code",
      "source": [
        "df.dtypes"
      ],
      "metadata": {
        "colab": {
          "base_uri": "https://localhost:8080/"
        },
        "id": "40HNRUPt6xQJ",
        "outputId": "b3fb9a57-9f82-46a8-b5bd-d27dae3f4471"
      },
      "execution_count": null,
      "outputs": [
        {
          "output_type": "execute_result",
          "data": {
            "text/plain": [
              "customer_id                                     int64\n",
              "first_name                                     object\n",
              "last_name                                      object\n",
              "gender                                         object\n",
              "past_3_years_bike_related_purchases             int64\n",
              "dob                                    datetime64[ns]\n",
              "job_title                                      object\n",
              "job_industry_category                          object\n",
              "wealth_segment                                 object\n",
              "deceased_indicator                               bool\n",
              "owns_car                                         bool\n",
              "tenure                                        float64\n",
              "address                                        object\n",
              "postcode                                        int64\n",
              "state                                          object\n",
              "country                                        object\n",
              "property_valuation                              int64\n",
              "transaction_id                                  int64\n",
              "product_id                                      int64\n",
              "transaction_date                               object\n",
              "online_order                                  float64\n",
              "order_status                                   object\n",
              "brand                                          object\n",
              "product_line                                   object\n",
              "product_class                                  object\n",
              "product_size                                   object\n",
              "list_price                                    float64\n",
              "standard_cost                                 float64\n",
              "product_first_sold_date                        object\n",
              "dtype: object"
            ]
          },
          "metadata": {},
          "execution_count": 22
        }
      ]
    },
    {
      "cell_type": "code",
      "source": [
        "#adding new columns \"age\" from \"dob\" with reference to current dt.datetime.now()\n",
        "ref_col=dt.datetime.now()\n",
        "## using lambda function \n",
        "df[\"age\"]=df[\"dob\"].apply(lambda x: len(pd.date_range(start=x, end=ref_col, freq=\"Y\")))"
      ],
      "metadata": {
        "id": "w_aSD3yR60ei"
      },
      "execution_count": null,
      "outputs": []
    },
    {
      "cell_type": "code",
      "source": [
        "## keeping those data whose age is less than 100\n",
        "df=df[df[\"age\"]<100]"
      ],
      "metadata": {
        "id": "vaGyTxBK7b4O"
      },
      "execution_count": null,
      "outputs": []
    },
    {
      "cell_type": "code",
      "source": [
        "# adding one more column \"transaction_month\" by using datetimeindex of pandas\n",
        "df['transaction_month'] = pd.DatetimeIndex(df['dob']).month\n"
      ],
      "metadata": {
        "colab": {
          "base_uri": "https://localhost:8080/"
        },
        "id": "bsdAyIKz8kUq",
        "outputId": "72745179-ceca-4f26-c4c2-a78045e0da92"
      },
      "execution_count": null,
      "outputs": [
        {
          "output_type": "stream",
          "name": "stderr",
          "text": [
            "/usr/local/lib/python3.7/dist-packages/ipykernel_launcher.py:2: SettingWithCopyWarning: \n",
            "A value is trying to be set on a copy of a slice from a DataFrame.\n",
            "Try using .loc[row_indexer,col_indexer] = value instead\n",
            "\n",
            "See the caveats in the documentation: https://pandas.pydata.org/pandas-docs/stable/user_guide/indexing.html#returning-a-view-versus-a-copy\n",
            "  \n"
          ]
        }
      ]
    },
    {
      "cell_type": "code",
      "source": [
        "#adding the \"profit\" columns By df['list_price'] - df['standard_cost']\n",
        "df['profit'] = df['list_price'] - df['standard_cost']\n",
        "\n"
      ],
      "metadata": {
        "colab": {
          "base_uri": "https://localhost:8080/"
        },
        "id": "DtXH_DN-9EgL",
        "outputId": "81dc7bbf-0256-4df7-b2ea-2571624619ed"
      },
      "execution_count": null,
      "outputs": [
        {
          "output_type": "stream",
          "name": "stderr",
          "text": [
            "/usr/local/lib/python3.7/dist-packages/ipykernel_launcher.py:2: SettingWithCopyWarning: \n",
            "A value is trying to be set on a copy of a slice from a DataFrame.\n",
            "Try using .loc[row_indexer,col_indexer] = value instead\n",
            "\n",
            "See the caveats in the documentation: https://pandas.pydata.org/pandas-docs/stable/user_guide/indexing.html#returning-a-view-versus-a-copy\n",
            "  \n"
          ]
        }
      ]
    },
    {
      "cell_type": "code",
      "source": [
        "df.tail()"
      ],
      "metadata": {
        "colab": {
          "base_uri": "https://localhost:8080/",
          "height": 386
        },
        "id": "vAdSGhvC9O6-",
        "outputId": "ceab54c6-6eb7-48a1-8e15-eb0d9c938189"
      },
      "execution_count": null,
      "outputs": [
        {
          "output_type": "execute_result",
          "data": {
            "text/plain": [
              "       customer_id first_name last_name  gender  \\\n",
              "19964         3500       Josy   Fleeman  Female   \n",
              "19966         3500       Josy   Fleeman  Female   \n",
              "19962         3500       Josy   Fleeman  Female   \n",
              "19963         3500       Josy   Fleeman  Female   \n",
              "19967         3500       Josy   Fleeman  Female   \n",
              "\n",
              "       past_3_years_bike_related_purchases        dob job_title  \\\n",
              "19964                                   71 1967-07-21  Operator   \n",
              "19966                                   71 1967-07-21  Operator   \n",
              "19962                                   71 1967-07-21  Operator   \n",
              "19963                                   71 1967-07-21  Operator   \n",
              "19967                                   71 1967-07-21  Operator   \n",
              "\n",
              "      job_industry_category     wealth_segment  deceased_indicator  ...  \\\n",
              "19964         Entertainment  Affluent Customer               False  ...   \n",
              "19966         Entertainment  Affluent Customer               False  ...   \n",
              "19962         Entertainment  Affluent Customer               False  ...   \n",
              "19963         Entertainment  Affluent Customer               False  ...   \n",
              "19967         Entertainment  Affluent Customer               False  ...   \n",
              "\n",
              "                brand  product_line product_class  product_size list_price  \\\n",
              "19964        WeareA2B      Standard        medium        medium    1228.07   \n",
              "19966           Solex      Standard        medium        medium      71.49   \n",
              "19962  Giant Bicycles          Road        medium        medium     792.90   \n",
              "19963        WeareA2B      Standard        medium        medium      60.34   \n",
              "19967  Giant Bicycles      Standard        medium         small    1311.44   \n",
              "\n",
              "      standard_cost        product_first_sold_date  age  transaction_month  \\\n",
              "19964        400.91  1970-01-01 10:11:08.000000000   55                  7   \n",
              "19966         53.62  1970-01-01 11:27:25.000000000   55                  7   \n",
              "19962        594.68  1970-01-01 09:24:39.000000000   55                  7   \n",
              "19963         45.26  1970-01-01 09:29:25.000000000   55                  7   \n",
              "19967       1167.18  1970-01-01 09:24:48.000000000   55                  7   \n",
              "\n",
              "       profit  \n",
              "19964  827.16  \n",
              "19966   17.87  \n",
              "19962  198.22  \n",
              "19963   15.08  \n",
              "19967  144.26  \n",
              "\n",
              "[5 rows x 32 columns]"
            ],
            "text/html": [
              "\n",
              "  <div id=\"df-d5b987e0-724d-4cb0-88ca-c11092fb1730\">\n",
              "    <div class=\"colab-df-container\">\n",
              "      <div>\n",
              "<style scoped>\n",
              "    .dataframe tbody tr th:only-of-type {\n",
              "        vertical-align: middle;\n",
              "    }\n",
              "\n",
              "    .dataframe tbody tr th {\n",
              "        vertical-align: top;\n",
              "    }\n",
              "\n",
              "    .dataframe thead th {\n",
              "        text-align: right;\n",
              "    }\n",
              "</style>\n",
              "<table border=\"1\" class=\"dataframe\">\n",
              "  <thead>\n",
              "    <tr style=\"text-align: right;\">\n",
              "      <th></th>\n",
              "      <th>customer_id</th>\n",
              "      <th>first_name</th>\n",
              "      <th>last_name</th>\n",
              "      <th>gender</th>\n",
              "      <th>past_3_years_bike_related_purchases</th>\n",
              "      <th>dob</th>\n",
              "      <th>job_title</th>\n",
              "      <th>job_industry_category</th>\n",
              "      <th>wealth_segment</th>\n",
              "      <th>deceased_indicator</th>\n",
              "      <th>...</th>\n",
              "      <th>brand</th>\n",
              "      <th>product_line</th>\n",
              "      <th>product_class</th>\n",
              "      <th>product_size</th>\n",
              "      <th>list_price</th>\n",
              "      <th>standard_cost</th>\n",
              "      <th>product_first_sold_date</th>\n",
              "      <th>age</th>\n",
              "      <th>transaction_month</th>\n",
              "      <th>profit</th>\n",
              "    </tr>\n",
              "  </thead>\n",
              "  <tbody>\n",
              "    <tr>\n",
              "      <th>19964</th>\n",
              "      <td>3500</td>\n",
              "      <td>Josy</td>\n",
              "      <td>Fleeman</td>\n",
              "      <td>Female</td>\n",
              "      <td>71</td>\n",
              "      <td>1967-07-21</td>\n",
              "      <td>Operator</td>\n",
              "      <td>Entertainment</td>\n",
              "      <td>Affluent Customer</td>\n",
              "      <td>False</td>\n",
              "      <td>...</td>\n",
              "      <td>WeareA2B</td>\n",
              "      <td>Standard</td>\n",
              "      <td>medium</td>\n",
              "      <td>medium</td>\n",
              "      <td>1228.07</td>\n",
              "      <td>400.91</td>\n",
              "      <td>1970-01-01 10:11:08.000000000</td>\n",
              "      <td>55</td>\n",
              "      <td>7</td>\n",
              "      <td>827.16</td>\n",
              "    </tr>\n",
              "    <tr>\n",
              "      <th>19966</th>\n",
              "      <td>3500</td>\n",
              "      <td>Josy</td>\n",
              "      <td>Fleeman</td>\n",
              "      <td>Female</td>\n",
              "      <td>71</td>\n",
              "      <td>1967-07-21</td>\n",
              "      <td>Operator</td>\n",
              "      <td>Entertainment</td>\n",
              "      <td>Affluent Customer</td>\n",
              "      <td>False</td>\n",
              "      <td>...</td>\n",
              "      <td>Solex</td>\n",
              "      <td>Standard</td>\n",
              "      <td>medium</td>\n",
              "      <td>medium</td>\n",
              "      <td>71.49</td>\n",
              "      <td>53.62</td>\n",
              "      <td>1970-01-01 11:27:25.000000000</td>\n",
              "      <td>55</td>\n",
              "      <td>7</td>\n",
              "      <td>17.87</td>\n",
              "    </tr>\n",
              "    <tr>\n",
              "      <th>19962</th>\n",
              "      <td>3500</td>\n",
              "      <td>Josy</td>\n",
              "      <td>Fleeman</td>\n",
              "      <td>Female</td>\n",
              "      <td>71</td>\n",
              "      <td>1967-07-21</td>\n",
              "      <td>Operator</td>\n",
              "      <td>Entertainment</td>\n",
              "      <td>Affluent Customer</td>\n",
              "      <td>False</td>\n",
              "      <td>...</td>\n",
              "      <td>Giant Bicycles</td>\n",
              "      <td>Road</td>\n",
              "      <td>medium</td>\n",
              "      <td>medium</td>\n",
              "      <td>792.90</td>\n",
              "      <td>594.68</td>\n",
              "      <td>1970-01-01 09:24:39.000000000</td>\n",
              "      <td>55</td>\n",
              "      <td>7</td>\n",
              "      <td>198.22</td>\n",
              "    </tr>\n",
              "    <tr>\n",
              "      <th>19963</th>\n",
              "      <td>3500</td>\n",
              "      <td>Josy</td>\n",
              "      <td>Fleeman</td>\n",
              "      <td>Female</td>\n",
              "      <td>71</td>\n",
              "      <td>1967-07-21</td>\n",
              "      <td>Operator</td>\n",
              "      <td>Entertainment</td>\n",
              "      <td>Affluent Customer</td>\n",
              "      <td>False</td>\n",
              "      <td>...</td>\n",
              "      <td>WeareA2B</td>\n",
              "      <td>Standard</td>\n",
              "      <td>medium</td>\n",
              "      <td>medium</td>\n",
              "      <td>60.34</td>\n",
              "      <td>45.26</td>\n",
              "      <td>1970-01-01 09:29:25.000000000</td>\n",
              "      <td>55</td>\n",
              "      <td>7</td>\n",
              "      <td>15.08</td>\n",
              "    </tr>\n",
              "    <tr>\n",
              "      <th>19967</th>\n",
              "      <td>3500</td>\n",
              "      <td>Josy</td>\n",
              "      <td>Fleeman</td>\n",
              "      <td>Female</td>\n",
              "      <td>71</td>\n",
              "      <td>1967-07-21</td>\n",
              "      <td>Operator</td>\n",
              "      <td>Entertainment</td>\n",
              "      <td>Affluent Customer</td>\n",
              "      <td>False</td>\n",
              "      <td>...</td>\n",
              "      <td>Giant Bicycles</td>\n",
              "      <td>Standard</td>\n",
              "      <td>medium</td>\n",
              "      <td>small</td>\n",
              "      <td>1311.44</td>\n",
              "      <td>1167.18</td>\n",
              "      <td>1970-01-01 09:24:48.000000000</td>\n",
              "      <td>55</td>\n",
              "      <td>7</td>\n",
              "      <td>144.26</td>\n",
              "    </tr>\n",
              "  </tbody>\n",
              "</table>\n",
              "<p>5 rows × 32 columns</p>\n",
              "</div>\n",
              "      <button class=\"colab-df-convert\" onclick=\"convertToInteractive('df-d5b987e0-724d-4cb0-88ca-c11092fb1730')\"\n",
              "              title=\"Convert this dataframe to an interactive table.\"\n",
              "              style=\"display:none;\">\n",
              "        \n",
              "  <svg xmlns=\"http://www.w3.org/2000/svg\" height=\"24px\"viewBox=\"0 0 24 24\"\n",
              "       width=\"24px\">\n",
              "    <path d=\"M0 0h24v24H0V0z\" fill=\"none\"/>\n",
              "    <path d=\"M18.56 5.44l.94 2.06.94-2.06 2.06-.94-2.06-.94-.94-2.06-.94 2.06-2.06.94zm-11 1L8.5 8.5l.94-2.06 2.06-.94-2.06-.94L8.5 2.5l-.94 2.06-2.06.94zm10 10l.94 2.06.94-2.06 2.06-.94-2.06-.94-.94-2.06-.94 2.06-2.06.94z\"/><path d=\"M17.41 7.96l-1.37-1.37c-.4-.4-.92-.59-1.43-.59-.52 0-1.04.2-1.43.59L10.3 9.45l-7.72 7.72c-.78.78-.78 2.05 0 2.83L4 21.41c.39.39.9.59 1.41.59.51 0 1.02-.2 1.41-.59l7.78-7.78 2.81-2.81c.8-.78.8-2.07 0-2.86zM5.41 20L4 18.59l7.72-7.72 1.47 1.35L5.41 20z\"/>\n",
              "  </svg>\n",
              "      </button>\n",
              "      \n",
              "  <style>\n",
              "    .colab-df-container {\n",
              "      display:flex;\n",
              "      flex-wrap:wrap;\n",
              "      gap: 12px;\n",
              "    }\n",
              "\n",
              "    .colab-df-convert {\n",
              "      background-color: #E8F0FE;\n",
              "      border: none;\n",
              "      border-radius: 50%;\n",
              "      cursor: pointer;\n",
              "      display: none;\n",
              "      fill: #1967D2;\n",
              "      height: 32px;\n",
              "      padding: 0 0 0 0;\n",
              "      width: 32px;\n",
              "    }\n",
              "\n",
              "    .colab-df-convert:hover {\n",
              "      background-color: #E2EBFA;\n",
              "      box-shadow: 0px 1px 2px rgba(60, 64, 67, 0.3), 0px 1px 3px 1px rgba(60, 64, 67, 0.15);\n",
              "      fill: #174EA6;\n",
              "    }\n",
              "\n",
              "    [theme=dark] .colab-df-convert {\n",
              "      background-color: #3B4455;\n",
              "      fill: #D2E3FC;\n",
              "    }\n",
              "\n",
              "    [theme=dark] .colab-df-convert:hover {\n",
              "      background-color: #434B5C;\n",
              "      box-shadow: 0px 1px 3px 1px rgba(0, 0, 0, 0.15);\n",
              "      filter: drop-shadow(0px 1px 2px rgba(0, 0, 0, 0.3));\n",
              "      fill: #FFFFFF;\n",
              "    }\n",
              "  </style>\n",
              "\n",
              "      <script>\n",
              "        const buttonEl =\n",
              "          document.querySelector('#df-d5b987e0-724d-4cb0-88ca-c11092fb1730 button.colab-df-convert');\n",
              "        buttonEl.style.display =\n",
              "          google.colab.kernel.accessAllowed ? 'block' : 'none';\n",
              "\n",
              "        async function convertToInteractive(key) {\n",
              "          const element = document.querySelector('#df-d5b987e0-724d-4cb0-88ca-c11092fb1730');\n",
              "          const dataTable =\n",
              "            await google.colab.kernel.invokeFunction('convertToInteractive',\n",
              "                                                     [key], {});\n",
              "          if (!dataTable) return;\n",
              "\n",
              "          const docLinkHtml = 'Like what you see? Visit the ' +\n",
              "            '<a target=\"_blank\" href=https://colab.research.google.com/notebooks/data_table.ipynb>data table notebook</a>'\n",
              "            + ' to learn more about interactive tables.';\n",
              "          element.innerHTML = '';\n",
              "          dataTable['output_type'] = 'display_data';\n",
              "          await google.colab.output.renderOutput(dataTable, element);\n",
              "          const docLink = document.createElement('div');\n",
              "          docLink.innerHTML = docLinkHtml;\n",
              "          element.appendChild(docLink);\n",
              "        }\n",
              "      </script>\n",
              "    </div>\n",
              "  </div>\n",
              "  "
            ]
          },
          "metadata": {},
          "execution_count": 37
        }
      ]
    },
    {
      "cell_type": "markdown",
      "source": [
        "## **Data Visualisation**"
      ],
      "metadata": {
        "id": "QEGLs_bm-T0f"
      }
    },
    {
      "cell_type": "code",
      "source": [
        "plt.figure(figsize=(12,8))\n",
        "ax= plt.hist(df[\"age\"],bins= [24,44,64,100], color='skyblue', Edgecolor='White')\n",
        "plt.title('Age distribution histogram')\n",
        "plt.xlabel('Age')\n",
        "plt.ylabel('Frequency')\n",
        "plt.savefig('Age_dist.png')\n",
        "plt.show()\n",
        "\n"
      ],
      "metadata": {
        "id": "vIP5P0WI9S1i",
        "colab": {
          "base_uri": "https://localhost:8080/",
          "height": 513
        },
        "outputId": "2f16e663-3b87-4f45-f681-5b529103735d"
      },
      "execution_count": null,
      "outputs": [
        {
          "output_type": "display_data",
          "data": {
            "text/plain": [
              "<Figure size 864x576 with 1 Axes>"
            ],
            "image/png": "[encoded data removed]"
          },
          "metadata": {
            "needs_background": "light"
          }
        }
      ]
    },
    {
      "cell_type": "code",
      "source": [
        "sns.countplot(x=df[\"gender\"])\n",
        "plt.title('Gender count barchart')\n",
        "plt.savefig('gender_count_original.png')\n",
        "plt.show()\n",
        "\n",
        "\n"
      ],
      "metadata": {
        "colab": {
          "base_uri": "https://localhost:8080/",
          "height": 295
        },
        "id": "63Ja_Dh7Afp1",
        "outputId": "3e96d0aa-2b7f-4fb7-d84d-c79b51f1310e"
      },
      "execution_count": null,
      "outputs": [
        {
          "output_type": "display_data",
          "data": {
            "text/plain": [
              "<Figure size 432x288 with 1 Axes>"
            ],
            "image/png": "[encoded data removed]"
          },
          "metadata": {
            "needs_background": "light"
          }
        }
      ]
    },
    {
      "cell_type": "code",
      "source": [
        "plt.figure(figsize = (16,8))\n",
        "sns.countplot(x='job_industry_category', data = df)\n",
        "plt.title('Job industry category barchart')\n",
        "plt.savefig('job_industry_original.png')\n",
        "plt.show()\n"
      ],
      "metadata": {
        "colab": {
          "base_uri": "https://localhost:8080/",
          "height": 514
        },
        "id": "iHchodolBx5j",
        "outputId": "4de53f61-3681-4d68-b022-6c1c3e7ed405"
      },
      "execution_count": null,
      "outputs": [
        {
          "output_type": "display_data",
          "data": {
            "text/plain": [
              "<Figure size 1152x576 with 1 Axes>"
            ],
            "image/png": "[encoded data removed]"
          },
          "metadata": {
            "needs_background": "light"
          }
        }
      ]
    },
    {
      "cell_type": "code",
      "source": [
        "plt.figure(figsize = (16,8))\n",
        "sns.countplot(x='job_industry_category', data=df, hue='gender')\n",
        "plt.legend(title='Gender', loc='upper right', fancybox=True)\n",
        "plt.title('Job industry category across gender')\n",
        "plt.savefig('job_industry-gender_original.png')\n",
        "plt.show()"
      ],
      "metadata": {
        "colab": {
          "base_uri": "https://localhost:8080/",
          "height": 514
        },
        "id": "GNjFjYrQDBH5",
        "outputId": "8f1ac201-2c76-49a6-f523-019f5ab605c7"
      },
      "execution_count": null,
      "outputs": [
        {
          "output_type": "display_data",
          "data": {
            "text/plain": [
              "<Figure size 1152x576 with 1 Axes>"
            ],
            "image/png": "[encoded data removed]"
          },
          "metadata": {
            "needs_background": "light"
          }
        }
      ]
    },
    {
      "cell_type": "code",
      "source": [
        "plt.figure(figsize = (12,8))\n",
        "sns.countplot(x = 'wealth_segment', data = df)\n",
        "plt.title('Wealth segment distribution')\n",
        "plt.xlabel('Wealth segment')\n",
        "plt.ylabel('Frequency')\n",
        "plt.savefig('wealth_segment_original.png')\n",
        "plt.show()"
      ],
      "metadata": {
        "colab": {
          "base_uri": "https://localhost:8080/",
          "height": 513
        },
        "id": "CP-cbJpFDv1z",
        "outputId": "d1214bd6-9d71-4320-8a63-b531ab2097dd"
      },
      "execution_count": null,
      "outputs": [
        {
          "output_type": "display_data",
          "data": {
            "text/plain": [
              "<Figure size 864x576 with 1 Axes>"
            ],
            "image/png": "[encoded data removed]"
          },
          "metadata": {
            "needs_background": "light"
          }
        }
      ]
    },
    {
      "cell_type": "code",
      "source": [
        "plt.figure(figsize = (12,8))\n",
        "sns.countplot(x='gender', data=df, hue='owns_car')\n",
        "plt.legend(title='Owns car', loc='upper right', fancybox=True)\n",
        "plt.title('Number of cars owned across gender')\n",
        "plt.savefig('owns_car_original.png')\n",
        "plt.show()"
      ],
      "metadata": {
        "colab": {
          "base_uri": "https://localhost:8080/",
          "height": 513
        },
        "id": "lwniWty_D31K",
        "outputId": "e154eea7-6d52-4a99-c78f-023965c6f47c"
      },
      "execution_count": null,
      "outputs": [
        {
          "output_type": "display_data",
          "data": {
            "text/plain": [
              "<Figure size 864x576 with 1 Axes>"
            ],
            "image/png": "[encoded data removed]"
          },
          "metadata": {
            "needs_background": "light"
          }
        }
      ]
    },
    {
      "cell_type": "code",
      "source": [
        "plt.figure(figsize = (12,8))\n",
        "sns.catplot(data=df, x='gender', y='past_3_years_bike_related_purchases')\n",
        "plt.title('Number bike purchased across gender')\n",
        "plt.savefig('bike_purchase_original.png')\n",
        "plt.show()"
      ],
      "metadata": {
        "colab": {
          "base_uri": "https://localhost:8080/",
          "height": 403
        },
        "id": "XjobMUfZD9qx",
        "outputId": "8db23879-5f06-496b-e8df-f858ad4cb346"
      },
      "execution_count": null,
      "outputs": [
        {
          "output_type": "display_data",
          "data": {
            "text/plain": [
              "<Figure size 864x576 with 0 Axes>"
            ]
          },
          "metadata": {}
        },
        {
          "output_type": "display_data",
          "data": {
            "text/plain": [
              "<Figure size 360x360 with 1 Axes>"
            ],
            "image/png": "[encoded data removed]"
          },
          "metadata": {
            "needs_background": "light"
          }
        }
      ]
    },
    {
      "cell_type": "code",
      "source": [
        "plt.figure(figsize = (12,8))\n",
        "sns.countplot(x='gender', data=df, hue='wealth_segment')\n",
        "plt.legend(title='Wealth Segment', loc='upper right', fancybox=True)\n",
        "plt.title('Wealth Segment across gender')\n",
        "plt.savefig('wealth_segment-gender_original.png')\n",
        "plt.show()\n"
      ],
      "metadata": {
        "colab": {
          "base_uri": "https://localhost:8080/",
          "height": 513
        },
        "id": "ajM7nxWEEA7q",
        "outputId": "97381d4f-396a-4aa7-a1a1-0861e8da3989"
      },
      "execution_count": null,
      "outputs": [
        {
          "output_type": "display_data",
          "data": {
            "text/plain": [
              "<Figure size 864x576 with 1 Axes>"
            ],
            "image/png": "[encoded data removed]"
          },
          "metadata": {
            "needs_background": "light"
          }
        }
      ]
    },
    {
      "cell_type": "code",
      "source": [
        "plt.figure(figsize = (16,8))\n",
        "sns.displot(x='age', binwidth=10, data=df, hue='wealth_segment')\n",
        "plt.title('Wealth Segment across age group')\n",
        "plt.savefig('wealth_segment-age_original.png')\n",
        "plt.show()\n"
      ],
      "metadata": {
        "colab": {
          "base_uri": "https://localhost:8080/",
          "height": 403
        },
        "id": "L_HYTgVVEEIT",
        "outputId": "5317cb90-9343-4990-f427-87f96fcc34ab"
      },
      "execution_count": null,
      "outputs": [
        {
          "output_type": "display_data",
          "data": {
            "text/plain": [
              "<Figure size 1152x576 with 0 Axes>"
            ]
          },
          "metadata": {}
        },
        {
          "output_type": "display_data",
          "data": {
            "text/plain": [
              "<Figure size 486.75x360 with 1 Axes>"
            ],
            "image/png": "[encoded data removed]"
          },
          "metadata": {
            "needs_background": "light"
          }
        }
      ]
    },
    {
      "cell_type": "code",
      "source": [
        "plt.figure(figsize = (12,8))\n",
        "sns.countplot(x='state', data=df, hue='wealth_segment')\n",
        "plt.legend(title='Wealth segment', loc='upper right', fancybox=True)\n",
        "plt.title('Wealth Segment across state')\n",
        "plt.savefig('wealth_segment-state_original.png')\n",
        "plt.show()\n"
      ],
      "metadata": {
        "colab": {
          "base_uri": "https://localhost:8080/",
          "height": 513
        },
        "id": "fO0ZylzEEHmZ",
        "outputId": "d12eed0e-b71e-49b7-cef6-6dcc4862d304"
      },
      "execution_count": null,
      "outputs": [
        {
          "output_type": "display_data",
          "data": {
            "text/plain": [
              "<Figure size 864x576 with 1 Axes>"
            ],
            "image/png": "[encoded data removed]"
          },
          "metadata": {
            "needs_background": "light"
          }
        }
      ]
    },
    {
      "cell_type": "code",
      "source": [
        "plt.figure(figsize=(16,8))\n",
        "sns.countplot(x='gender', data=df, hue='job_industry_category', order = df['gender'].value_counts().index)\n",
        "plt.legend(title='Job industry category', loc='upper right', fancybox=True)\n",
        "plt.title('Job industry category across gender')\n",
        "plt.savefig('job_industry-gender_original.png')\n",
        "plt.show()"
      ],
      "metadata": {
        "colab": {
          "base_uri": "https://localhost:8080/",
          "height": 513
        },
        "id": "_2MPzdqUEUcS",
        "outputId": "8a9a8fce-290a-4a64-9305-d9144858f3cb"
      },
      "execution_count": null,
      "outputs": [
        {
          "output_type": "display_data",
          "data": {
            "text/plain": [
              "<Figure size 1152x576 with 1 Axes>"
            ],
            "image/png": "[encoded data removed]"
          },
          "metadata": {
            "needs_background": "light"
          }
        }
      ]
    },
    {
      "cell_type": "code",
      "source": [
        "plt.figure(figsize = (16,8))\n",
        "sns.countplot(x='gender', data=df, hue='state')\n",
        "plt.legend(title='State', loc='upper right', fancybox=True)\n",
        "plt.title('Number of people of different gender in different state')\n",
        "plt.savefig('state-gender_original.png')\n",
        "plt.show()"
      ],
      "metadata": {
        "colab": {
          "base_uri": "https://localhost:8080/",
          "height": 513
        },
        "id": "bEjHhf43EeIY",
        "outputId": "a19083eb-a744-4219-9018-437b09e94bd4"
      },
      "execution_count": null,
      "outputs": [
        {
          "output_type": "display_data",
          "data": {
            "text/plain": [
              "<Figure size 1152x576 with 1 Axes>"
            ],
            "image/png": "[encoded data removed]"
          },
          "metadata": {
            "needs_background": "light"
          }
        }
      ]
    },
    {
      "cell_type": "code",
      "source": [
        "plt.figure(figsize = (12,8))\n",
        "sns.countplot(x = 'state', data = df, hue = 'gender')\n",
        "plt.legend(title='State', loc='upper right', fancybox=True)\n",
        "plt.title('Number of people in different state')\n",
        "plt.savefig('gender-state_original.png')\n",
        "plt.show()"
      ],
      "metadata": {
        "colab": {
          "base_uri": "https://localhost:8080/",
          "height": 513
        },
        "id": "TCvpLGL0Ei23",
        "outputId": "92374758-ccd5-497b-aa18-cfd401243acd"
      },
      "execution_count": null,
      "outputs": [
        {
          "output_type": "display_data",
          "data": {
            "text/plain": [
              "<Figure size 864x576 with 1 Axes>"
            ],
            "image/png": "[encoded data removed]"
          },
          "metadata": {
            "needs_background": "light"
          }
        }
      ]
    },
    {
      "cell_type": "code",
      "source": [
        "plt.figure(figsize = (12,8))\n",
        "sns.countplot(x = 'state', data = df, hue = 'owns_car')\n",
        "plt.legend(title='State', loc='upper right', fancybox=True)\n",
        "plt.title('Number of people who owns a car in different state')\n",
        "plt.savefig('owns_car-state_original.png')\n",
        "plt.show()"
      ],
      "metadata": {
        "colab": {
          "base_uri": "https://localhost:8080/",
          "height": 513
        },
        "id": "uFpqu6ntEl7F",
        "outputId": "9a6655e1-38b5-4798-fab1-39fd3ba8374c"
      },
      "execution_count": null,
      "outputs": [
        {
          "output_type": "display_data",
          "data": {
            "text/plain": [
              "<Figure size 864x576 with 1 Axes>"
            ],
            "image/png": "[encoded data removed]"
          },
          "metadata": {
            "needs_background": "light"
          }
        }
      ]
    },
    {
      "cell_type": "code",
      "source": [
        "plt.figure(figsize = (12,8))\n",
        "sns.boxplot(x = df['gender'], y = df['age'])\n",
        "plt.title('Boxplot showing the age range of customers')\n",
        "plt.savefig('age_boxplot_original.png')\n",
        "plt.show()"
      ],
      "metadata": {
        "colab": {
          "base_uri": "https://localhost:8080/",
          "height": 513
        },
        "id": "oE9NeuOXEp7y",
        "outputId": "1f9973f5-0804-4ad4-b705-0aa112264e8d"
      },
      "execution_count": null,
      "outputs": [
        {
          "output_type": "display_data",
          "data": {
            "text/plain": [
              "<Figure size 864x576 with 1 Axes>"
            ],
            "image/png": "[encoded data removed]"
          },
          "metadata": {
            "needs_background": "light"
          }
        }
      ]
    },
    {
      "cell_type": "code",
      "source": [
        "plt.scatter(df['profit'], df['transaction_month'], alpha=0.5)\n",
        "colors=np.random.rand()\n",
        "plt.show()\n"
      ],
      "metadata": {
        "colab": {
          "base_uri": "https://localhost:8080/",
          "height": 265
        },
        "id": "HTFsOV4vEtMr",
        "outputId": "48be66e7-294d-4fcb-9a31-a41b7dc462de"
      },
      "execution_count": null,
      "outputs": [
        {
          "output_type": "display_data",
          "data": {
            "text/plain": [
              "<Figure size 432x288 with 1 Axes>"
            ],
            "image/png": "[encoded data removed]"
          },
          "metadata": {
            "needs_background": "light"
          }
        }
      ]
    },
    {
      "cell_type": "code",
      "source": [],
      "metadata": {
        "id": "8vu8rnSeE06c"
      },
      "execution_count": null,
      "outputs": []
    },
    {
      "cell_type": "markdown",
      "source": [
        "# **Working on Target Data**"
      ],
      "metadata": {
        "id": "7DKQdw1kE6ci"
      }
    },
    {
      "cell_type": "code",
      "source": [
        "df2=csv4"
      ],
      "metadata": {
        "id": "mRAvxgbKFA6F"
      },
      "execution_count": null,
      "outputs": []
    },
    {
      "cell_type": "code",
      "source": [
        "df2"
      ],
      "metadata": {
        "colab": {
          "base_uri": "https://localhost:8080/",
          "height": 800
        },
        "id": "hjElO5JkFFB8",
        "outputId": "4007fb68-f742-4e7a-cd17-4fc143ce7e46"
      },
      "execution_count": null,
      "outputs": [
        {
          "output_type": "execute_result",
          "data": {
            "text/plain": [
              "    first_name  last_name  gender  past_3_years_bike_related_purchases  \\\n",
              "0      Chickie    Brister    Male                                   86   \n",
              "1        Morly     Genery    Male                                   69   \n",
              "2      Ardelis  Forrester  Female                                   10   \n",
              "3       Lucine      Stutt  Female                                   64   \n",
              "4      Melinda     Hadlee  Female                                   34   \n",
              "..         ...        ...     ...                                  ...   \n",
              "995  Ferdinand  Romanetti    Male                                   60   \n",
              "996       Burk    Wortley    Male                                   22   \n",
              "997   Melloney      Temby  Female                                   17   \n",
              "998     Dickie    Cubbini    Male                                   30   \n",
              "999      Sylas    Duffill    Male                                   56   \n",
              "\n",
              "            dob                     job_title job_industry_category  \\\n",
              "0    1957-07-12               General Manager         Manufacturing   \n",
              "1    1970-03-22           Structural Engineer              Property   \n",
              "2    1974-08-28        Senior Cost Accountant    Financial Services   \n",
              "3    1979-01-28    Account Representative III         Manufacturing   \n",
              "4    1965-09-21             Financial Analyst    Financial Services   \n",
              "..          ...                           ...                   ...   \n",
              "995  1959-10-07                     Paralegal    Financial Services   \n",
              "996  2001-10-17        Senior Sales Associate                Health   \n",
              "997  1954-10-05  Budget/Accounting Analyst IV    Financial Services   \n",
              "998  1952-12-17             Financial Advisor    Financial Services   \n",
              "999  1955-10-02           Staff Accountant IV              Property   \n",
              "\n",
              "        wealth_segment deceased_indicator owns_car  tenure  \\\n",
              "0        Mass Customer                  N      Yes      14   \n",
              "1        Mass Customer                  N       No      16   \n",
              "2    Affluent Customer                  N       No      10   \n",
              "3    Affluent Customer                  N      Yes       5   \n",
              "4    Affluent Customer                  N       No      19   \n",
              "..                 ...                ...      ...     ...   \n",
              "995  Affluent Customer                  N       No       9   \n",
              "996      Mass Customer                  N       No       6   \n",
              "997  Affluent Customer                  N      Yes      15   \n",
              "998      Mass Customer                  N      Yes      19   \n",
              "999      Mass Customer                  N      Yes      14   \n",
              "\n",
              "                      address  postcode state    country  property_valuation  \\\n",
              "0            45 Shopko Center      4500   QLD  Australia                   6   \n",
              "1           14 Mccormick Park      2113   NSW  Australia                  11   \n",
              "2         5 Colorado Crossing      3505   VIC  Australia                   5   \n",
              "3          207 Annamark Plaza      4814   QLD  Australia                   1   \n",
              "4           115 Montana Place      2093   NSW  Australia                   9   \n",
              "..                        ...       ...   ...        ...                 ...   \n",
              "995               2 Sloan Way      2200   NSW  Australia                   7   \n",
              "996         04 Union Crossing      2196   NSW  Australia                  10   \n",
              "997  33475 Fair Oaks Junction      4702   QLD  Australia                   2   \n",
              "998        57666 Victoria Way      4215   QLD  Australia                   2   \n",
              "999        21875 Grover Drive      2010   NSW  Australia                   9   \n",
              "\n",
              "     rank  value  \n",
              "0       1  1.719  \n",
              "1       1  1.719  \n",
              "2       1  1.719  \n",
              "3       4  1.703  \n",
              "4       4  1.703  \n",
              "..    ...    ...  \n",
              "995   996  0.374  \n",
              "996   997  0.357  \n",
              "997   997  0.357  \n",
              "998   997  0.357  \n",
              "999  1000  0.340  \n",
              "\n",
              "[1000 rows x 18 columns]"
            ],
            "text/html": [
              "\n",
              "  <div id=\"df-f4794310-9eb0-474b-9cdb-154d2ed439e7\">\n",
              "    <div class=\"colab-df-container\">\n",
              "      <div>\n",
              "<style scoped>\n",
              "    .dataframe tbody tr th:only-of-type {\n",
              "        vertical-align: middle;\n",
              "    }\n",
              "\n",
              "    .dataframe tbody tr th {\n",
              "        vertical-align: top;\n",
              "    }\n",
              "\n",
              "    .dataframe thead th {\n",
              "        text-align: right;\n",
              "    }\n",
              "</style>\n",
              "<table border=\"1\" class=\"dataframe\">\n",
              "  <thead>\n",
              "    <tr style=\"text-align: right;\">\n",
              "      <th></th>\n",
              "      <th>first_name</th>\n",
              "      <th>last_name</th>\n",
              "      <th>gender</th>\n",
              "      <th>past_3_years_bike_related_purchases</th>\n",
              "      <th>dob</th>\n",
              "      <th>job_title</th>\n",
              "      <th>job_industry_category</th>\n",
              "      <th>wealth_segment</th>\n",
              "      <th>deceased_indicator</th>\n",
              "      <th>owns_car</th>\n",
              "      <th>tenure</th>\n",
              "      <th>address</th>\n",
              "      <th>postcode</th>\n",
              "      <th>state</th>\n",
              "      <th>country</th>\n",
              "      <th>property_valuation</th>\n",
              "      <th>rank</th>\n",
              "      <th>value</th>\n",
              "    </tr>\n",
              "  </thead>\n",
              "  <tbody>\n",
              "    <tr>\n",
              "      <th>0</th>\n",
              "      <td>Chickie</td>\n",
              "      <td>Brister</td>\n",
              "      <td>Male</td>\n",
              "      <td>86</td>\n",
              "      <td>1957-07-12</td>\n",
              "      <td>General Manager</td>\n",
              "      <td>Manufacturing</td>\n",
              "      <td>Mass Customer</td>\n",
              "      <td>N</td>\n",
              "      <td>Yes</td>\n",
              "      <td>14</td>\n",
              "      <td>45 Shopko Center</td>\n",
              "      <td>4500</td>\n",
              "      <td>QLD</td>\n",
              "      <td>Australia</td>\n",
              "      <td>6</td>\n",
              "      <td>1</td>\n",
              "      <td>1.719</td>\n",
              "    </tr>\n",
              "    <tr>\n",
              "      <th>1</th>\n",
              "      <td>Morly</td>\n",
              "      <td>Genery</td>\n",
              "      <td>Male</td>\n",
              "      <td>69</td>\n",
              "      <td>1970-03-22</td>\n",
              "      <td>Structural Engineer</td>\n",
              "      <td>Property</td>\n",
              "      <td>Mass Customer</td>\n",
              "      <td>N</td>\n",
              "      <td>No</td>\n",
              "      <td>16</td>\n",
              "      <td>14 Mccormick Park</td>\n",
              "      <td>2113</td>\n",
              "      <td>NSW</td>\n",
              "      <td>Australia</td>\n",
              "      <td>11</td>\n",
              "      <td>1</td>\n",
              "      <td>1.719</td>\n",
              "    </tr>\n",
              "    <tr>\n",
              "      <th>2</th>\n",
              "      <td>Ardelis</td>\n",
              "      <td>Forrester</td>\n",
              "      <td>Female</td>\n",
              "      <td>10</td>\n",
              "      <td>1974-08-28</td>\n",
              "      <td>Senior Cost Accountant</td>\n",
              "      <td>Financial Services</td>\n",
              "      <td>Affluent Customer</td>\n",
              "      <td>N</td>\n",
              "      <td>No</td>\n",
              "      <td>10</td>\n",
              "      <td>5 Colorado Crossing</td>\n",
              "      <td>3505</td>\n",
              "      <td>VIC</td>\n",
              "      <td>Australia</td>\n",
              "      <td>5</td>\n",
              "      <td>1</td>\n",
              "      <td>1.719</td>\n",
              "    </tr>\n",
              "    <tr>\n",
              "      <th>3</th>\n",
              "      <td>Lucine</td>\n",
              "      <td>Stutt</td>\n",
              "      <td>Female</td>\n",
              "      <td>64</td>\n",
              "      <td>1979-01-28</td>\n",
              "      <td>Account Representative III</td>\n",
              "      <td>Manufacturing</td>\n",
              "      <td>Affluent Customer</td>\n",
              "      <td>N</td>\n",
              "      <td>Yes</td>\n",
              "      <td>5</td>\n",
              "      <td>207 Annamark Plaza</td>\n",
              "      <td>4814</td>\n",
              "      <td>QLD</td>\n",
              "      <td>Australia</td>\n",
              "      <td>1</td>\n",
              "      <td>4</td>\n",
              "      <td>1.703</td>\n",
              "    </tr>\n",
              "    <tr>\n",
              "      <th>4</th>\n",
              "      <td>Melinda</td>\n",
              "      <td>Hadlee</td>\n",
              "      <td>Female</td>\n",
              "      <td>34</td>\n",
              "      <td>1965-09-21</td>\n",
              "      <td>Financial Analyst</td>\n",
              "      <td>Financial Services</td>\n",
              "      <td>Affluent Customer</td>\n",
              "      <td>N</td>\n",
              "      <td>No</td>\n",
              "      <td>19</td>\n",
              "      <td>115 Montana Place</td>\n",
              "      <td>2093</td>\n",
              "      <td>NSW</td>\n",
              "      <td>Australia</td>\n",
              "      <td>9</td>\n",
              "      <td>4</td>\n",
              "      <td>1.703</td>\n",
              "    </tr>\n",
              "    <tr>\n",
              "      <th>...</th>\n",
              "      <td>...</td>\n",
              "      <td>...</td>\n",
              "      <td>...</td>\n",
              "      <td>...</td>\n",
              "      <td>...</td>\n",
              "      <td>...</td>\n",
              "      <td>...</td>\n",
              "      <td>...</td>\n",
              "      <td>...</td>\n",
              "      <td>...</td>\n",
              "      <td>...</td>\n",
              "      <td>...</td>\n",
              "      <td>...</td>\n",
              "      <td>...</td>\n",
              "      <td>...</td>\n",
              "      <td>...</td>\n",
              "      <td>...</td>\n",
              "      <td>...</td>\n",
              "    </tr>\n",
              "    <tr>\n",
              "      <th>995</th>\n",
              "      <td>Ferdinand</td>\n",
              "      <td>Romanetti</td>\n",
              "      <td>Male</td>\n",
              "      <td>60</td>\n",
              "      <td>1959-10-07</td>\n",
              "      <td>Paralegal</td>\n",
              "      <td>Financial Services</td>\n",
              "      <td>Affluent Customer</td>\n",
              "      <td>N</td>\n",
              "      <td>No</td>\n",
              "      <td>9</td>\n",
              "      <td>2 Sloan Way</td>\n",
              "      <td>2200</td>\n",
              "      <td>NSW</td>\n",
              "      <td>Australia</td>\n",
              "      <td>7</td>\n",
              "      <td>996</td>\n",
              "      <td>0.374</td>\n",
              "    </tr>\n",
              "    <tr>\n",
              "      <th>996</th>\n",
              "      <td>Burk</td>\n",
              "      <td>Wortley</td>\n",
              "      <td>Male</td>\n",
              "      <td>22</td>\n",
              "      <td>2001-10-17</td>\n",
              "      <td>Senior Sales Associate</td>\n",
              "      <td>Health</td>\n",
              "      <td>Mass Customer</td>\n",
              "      <td>N</td>\n",
              "      <td>No</td>\n",
              "      <td>6</td>\n",
              "      <td>04 Union Crossing</td>\n",
              "      <td>2196</td>\n",
              "      <td>NSW</td>\n",
              "      <td>Australia</td>\n",
              "      <td>10</td>\n",
              "      <td>997</td>\n",
              "      <td>0.357</td>\n",
              "    </tr>\n",
              "    <tr>\n",
              "      <th>997</th>\n",
              "      <td>Melloney</td>\n",
              "      <td>Temby</td>\n",
              "      <td>Female</td>\n",
              "      <td>17</td>\n",
              "      <td>1954-10-05</td>\n",
              "      <td>Budget/Accounting Analyst IV</td>\n",
              "      <td>Financial Services</td>\n",
              "      <td>Affluent Customer</td>\n",
              "      <td>N</td>\n",
              "      <td>Yes</td>\n",
              "      <td>15</td>\n",
              "      <td>33475 Fair Oaks Junction</td>\n",
              "      <td>4702</td>\n",
              "      <td>QLD</td>\n",
              "      <td>Australia</td>\n",
              "      <td>2</td>\n",
              "      <td>997</td>\n",
              "      <td>0.357</td>\n",
              "    </tr>\n",
              "    <tr>\n",
              "      <th>998</th>\n",
              "      <td>Dickie</td>\n",
              "      <td>Cubbini</td>\n",
              "      <td>Male</td>\n",
              "      <td>30</td>\n",
              "      <td>1952-12-17</td>\n",
              "      <td>Financial Advisor</td>\n",
              "      <td>Financial Services</td>\n",
              "      <td>Mass Customer</td>\n",
              "      <td>N</td>\n",
              "      <td>Yes</td>\n",
              "      <td>19</td>\n",
              "      <td>57666 Victoria Way</td>\n",
              "      <td>4215</td>\n",
              "      <td>QLD</td>\n",
              "      <td>Australia</td>\n",
              "      <td>2</td>\n",
              "      <td>997</td>\n",
              "      <td>0.357</td>\n",
              "    </tr>\n",
              "    <tr>\n",
              "      <th>999</th>\n",
              "      <td>Sylas</td>\n",
              "      <td>Duffill</td>\n",
              "      <td>Male</td>\n",
              "      <td>56</td>\n",
              "      <td>1955-10-02</td>\n",
              "      <td>Staff Accountant IV</td>\n",
              "      <td>Property</td>\n",
              "      <td>Mass Customer</td>\n",
              "      <td>N</td>\n",
              "      <td>Yes</td>\n",
              "      <td>14</td>\n",
              "      <td>21875 Grover Drive</td>\n",
              "      <td>2010</td>\n",
              "      <td>NSW</td>\n",
              "      <td>Australia</td>\n",
              "      <td>9</td>\n",
              "      <td>1000</td>\n",
              "      <td>0.340</td>\n",
              "    </tr>\n",
              "  </tbody>\n",
              "</table>\n",
              "<p>1000 rows × 18 columns</p>\n",
              "</div>\n",
              "      <button class=\"colab-df-convert\" onclick=\"convertToInteractive('df-f4794310-9eb0-474b-9cdb-154d2ed439e7')\"\n",
              "              title=\"Convert this dataframe to an interactive table.\"\n",
              "              style=\"display:none;\">\n",
              "        \n",
              "  <svg xmlns=\"http://www.w3.org/2000/svg\" height=\"24px\"viewBox=\"0 0 24 24\"\n",
              "       width=\"24px\">\n",
              "    <path d=\"M0 0h24v24H0V0z\" fill=\"none\"/>\n",
              "    <path d=\"M18.56 5.44l.94 2.06.94-2.06 2.06-.94-2.06-.94-.94-2.06-.94 2.06-2.06.94zm-11 1L8.5 8.5l.94-2.06 2.06-.94-2.06-.94L8.5 2.5l-.94 2.06-2.06.94zm10 10l.94 2.06.94-2.06 2.06-.94-2.06-.94-.94-2.06-.94 2.06-2.06.94z\"/><path d=\"M17.41 7.96l-1.37-1.37c-.4-.4-.92-.59-1.43-.59-.52 0-1.04.2-1.43.59L10.3 9.45l-7.72 7.72c-.78.78-.78 2.05 0 2.83L4 21.41c.39.39.9.59 1.41.59.51 0 1.02-.2 1.41-.59l7.78-7.78 2.81-2.81c.8-.78.8-2.07 0-2.86zM5.41 20L4 18.59l7.72-7.72 1.47 1.35L5.41 20z\"/>\n",
              "  </svg>\n",
              "      </button>\n",
              "      \n",
              "  <style>\n",
              "    .colab-df-container {\n",
              "      display:flex;\n",
              "      flex-wrap:wrap;\n",
              "      gap: 12px;\n",
              "    }\n",
              "\n",
              "    .colab-df-convert {\n",
              "      background-color: #E8F0FE;\n",
              "      border: none;\n",
              "      border-radius: 50%;\n",
              "      cursor: pointer;\n",
              "      display: none;\n",
              "      fill: #1967D2;\n",
              "      height: 32px;\n",
              "      padding: 0 0 0 0;\n",
              "      width: 32px;\n",
              "    }\n",
              "\n",
              "    .colab-df-convert:hover {\n",
              "      background-color: #E2EBFA;\n",
              "      box-shadow: 0px 1px 2px rgba(60, 64, 67, 0.3), 0px 1px 3px 1px rgba(60, 64, 67, 0.15);\n",
              "      fill: #174EA6;\n",
              "    }\n",
              "\n",
              "    [theme=dark] .colab-df-convert {\n",
              "      background-color: #3B4455;\n",
              "      fill: #D2E3FC;\n",
              "    }\n",
              "\n",
              "    [theme=dark] .colab-df-convert:hover {\n",
              "      background-color: #434B5C;\n",
              "      box-shadow: 0px 1px 3px 1px rgba(0, 0, 0, 0.15);\n",
              "      filter: drop-shadow(0px 1px 2px rgba(0, 0, 0, 0.3));\n",
              "      fill: #FFFFFF;\n",
              "    }\n",
              "  </style>\n",
              "\n",
              "      <script>\n",
              "        const buttonEl =\n",
              "          document.querySelector('#df-f4794310-9eb0-474b-9cdb-154d2ed439e7 button.colab-df-convert');\n",
              "        buttonEl.style.display =\n",
              "          google.colab.kernel.accessAllowed ? 'block' : 'none';\n",
              "\n",
              "        async function convertToInteractive(key) {\n",
              "          const element = document.querySelector('#df-f4794310-9eb0-474b-9cdb-154d2ed439e7');\n",
              "          const dataTable =\n",
              "            await google.colab.kernel.invokeFunction('convertToInteractive',\n",
              "                                                     [key], {});\n",
              "          if (!dataTable) return;\n",
              "\n",
              "          const docLinkHtml = 'Like what you see? Visit the ' +\n",
              "            '<a target=\"_blank\" href=https://colab.research.google.com/notebooks/data_table.ipynb>data table notebook</a>'\n",
              "            + ' to learn more about interactive tables.';\n",
              "          element.innerHTML = '';\n",
              "          dataTable['output_type'] = 'display_data';\n",
              "          await google.colab.output.renderOutput(dataTable, element);\n",
              "          const docLink = document.createElement('div');\n",
              "          docLink.innerHTML = docLinkHtml;\n",
              "          element.appendChild(docLink);\n",
              "        }\n",
              "      </script>\n",
              "    </div>\n",
              "  </div>\n",
              "  "
            ]
          },
          "metadata": {},
          "execution_count": 74
        }
      ]
    },
    {
      "cell_type": "code",
      "source": [
        "df2.info()"
      ],
      "metadata": {
        "colab": {
          "base_uri": "https://localhost:8080/"
        },
        "id": "nrFmGBDiFHIn",
        "outputId": "78628a10-6f38-4ea5-f2b2-98232521f13f"
      },
      "execution_count": null,
      "outputs": [
        {
          "output_type": "stream",
          "name": "stdout",
          "text": [
            "<class 'pandas.core.frame.DataFrame'>\n",
            "RangeIndex: 1000 entries, 0 to 999\n",
            "Data columns (total 18 columns):\n",
            " #   Column                               Non-Null Count  Dtype  \n",
            "---  ------                               --------------  -----  \n",
            " 0   first_name                           1000 non-null   object \n",
            " 1   last_name                            1000 non-null   object \n",
            " 2   gender                               1000 non-null   object \n",
            " 3   past_3_years_bike_related_purchases  1000 non-null   int64  \n",
            " 4   dob                                  1000 non-null   object \n",
            " 5   job_title                            1000 non-null   object \n",
            " 6   job_industry_category                1000 non-null   object \n",
            " 7   wealth_segment                       1000 non-null   object \n",
            " 8   deceased_indicator                   1000 non-null   object \n",
            " 9   owns_car                             1000 non-null   object \n",
            " 10  tenure                               1000 non-null   int64  \n",
            " 11  address                              1000 non-null   object \n",
            " 12  postcode                             1000 non-null   int64  \n",
            " 13  state                                1000 non-null   object \n",
            " 14  country                              1000 non-null   object \n",
            " 15  property_valuation                   1000 non-null   int64  \n",
            " 16  rank                                 1000 non-null   int64  \n",
            " 17  value                                1000 non-null   float64\n",
            "dtypes: float64(1), int64(5), object(12)\n",
            "memory usage: 140.8+ KB\n"
          ]
        }
      ]
    },
    {
      "cell_type": "code",
      "source": [
        "df2.describe()"
      ],
      "metadata": {
        "colab": {
          "base_uri": "https://localhost:8080/",
          "height": 300
        },
        "id": "B_opK7ybFNQY",
        "outputId": "5cab437c-608c-4d5d-fee1-2ed0910aabb6"
      },
      "execution_count": null,
      "outputs": [
        {
          "output_type": "execute_result",
          "data": {
            "text/plain": [
              "       past_3_years_bike_related_purchases       tenure     postcode  \\\n",
              "count                          1000.000000  1000.000000  1000.000000   \n",
              "mean                             49.836000    11.388000  3019.227000   \n",
              "std                              27.796686     5.037145   848.895767   \n",
              "min                               0.000000     0.000000  2000.000000   \n",
              "25%                              26.750000     7.000000  2209.000000   \n",
              "50%                              51.000000    11.000000  2800.000000   \n",
              "75%                              72.000000    15.000000  3845.500000   \n",
              "max                              99.000000    22.000000  4879.000000   \n",
              "\n",
              "       property_valuation         rank        value  \n",
              "count         1000.000000  1000.000000  1000.000000  \n",
              "mean             7.397000   498.819000     0.881722  \n",
              "std              2.758804   288.810997     0.293550  \n",
              "min              1.000000     1.000000     0.340000  \n",
              "25%              6.000000   250.000000     0.649500  \n",
              "50%              8.000000   500.000000     0.860000  \n",
              "75%              9.000000   750.250000     1.075000  \n",
              "max             12.000000  1000.000000     1.719000  "
            ],
            "text/html": [
              "\n",
              "  <div id=\"df-d1414d69-8988-4d47-b736-751aa072a247\">\n",
              "    <div class=\"colab-df-container\">\n",
              "      <div>\n",
              "<style scoped>\n",
              "    .dataframe tbody tr th:only-of-type {\n",
              "        vertical-align: middle;\n",
              "    }\n",
              "\n",
              "    .dataframe tbody tr th {\n",
              "        vertical-align: top;\n",
              "    }\n",
              "\n",
              "    .dataframe thead th {\n",
              "        text-align: right;\n",
              "    }\n",
              "</style>\n",
              "<table border=\"1\" class=\"dataframe\">\n",
              "  <thead>\n",
              "    <tr style=\"text-align: right;\">\n",
              "      <th></th>\n",
              "      <th>past_3_years_bike_related_purchases</th>\n",
              "      <th>tenure</th>\n",
              "      <th>postcode</th>\n",
              "      <th>property_valuation</th>\n",
              "      <th>rank</th>\n",
              "      <th>value</th>\n",
              "    </tr>\n",
              "  </thead>\n",
              "  <tbody>\n",
              "    <tr>\n",
              "      <th>count</th>\n",
              "      <td>1000.000000</td>\n",
              "      <td>1000.000000</td>\n",
              "      <td>1000.000000</td>\n",
              "      <td>1000.000000</td>\n",
              "      <td>1000.000000</td>\n",
              "      <td>1000.000000</td>\n",
              "    </tr>\n",
              "    <tr>\n",
              "      <th>mean</th>\n",
              "      <td>49.836000</td>\n",
              "      <td>11.388000</td>\n",
              "      <td>3019.227000</td>\n",
              "      <td>7.397000</td>\n",
              "      <td>498.819000</td>\n",
              "      <td>0.881722</td>\n",
              "    </tr>\n",
              "    <tr>\n",
              "      <th>std</th>\n",
              "      <td>27.796686</td>\n",
              "      <td>5.037145</td>\n",
              "      <td>848.895767</td>\n",
              "      <td>2.758804</td>\n",
              "      <td>288.810997</td>\n",
              "      <td>0.293550</td>\n",
              "    </tr>\n",
              "    <tr>\n",
              "      <th>min</th>\n",
              "      <td>0.000000</td>\n",
              "      <td>0.000000</td>\n",
              "      <td>2000.000000</td>\n",
              "      <td>1.000000</td>\n",
              "      <td>1.000000</td>\n",
              "      <td>0.340000</td>\n",
              "    </tr>\n",
              "    <tr>\n",
              "      <th>25%</th>\n",
              "      <td>26.750000</td>\n",
              "      <td>7.000000</td>\n",
              "      <td>2209.000000</td>\n",
              "      <td>6.000000</td>\n",
              "      <td>250.000000</td>\n",
              "      <td>0.649500</td>\n",
              "    </tr>\n",
              "    <tr>\n",
              "      <th>50%</th>\n",
              "      <td>51.000000</td>\n",
              "      <td>11.000000</td>\n",
              "      <td>2800.000000</td>\n",
              "      <td>8.000000</td>\n",
              "      <td>500.000000</td>\n",
              "      <td>0.860000</td>\n",
              "    </tr>\n",
              "    <tr>\n",
              "      <th>75%</th>\n",
              "      <td>72.000000</td>\n",
              "      <td>15.000000</td>\n",
              "      <td>3845.500000</td>\n",
              "      <td>9.000000</td>\n",
              "      <td>750.250000</td>\n",
              "      <td>1.075000</td>\n",
              "    </tr>\n",
              "    <tr>\n",
              "      <th>max</th>\n",
              "      <td>99.000000</td>\n",
              "      <td>22.000000</td>\n",
              "      <td>4879.000000</td>\n",
              "      <td>12.000000</td>\n",
              "      <td>1000.000000</td>\n",
              "      <td>1.719000</td>\n",
              "    </tr>\n",
              "  </tbody>\n",
              "</table>\n",
              "</div>\n",
              "      <button class=\"colab-df-convert\" onclick=\"convertToInteractive('df-d1414d69-8988-4d47-b736-751aa072a247')\"\n",
              "              title=\"Convert this dataframe to an interactive table.\"\n",
              "              style=\"display:none;\">\n",
              "        \n",
              "  <svg xmlns=\"http://www.w3.org/2000/svg\" height=\"24px\"viewBox=\"0 0 24 24\"\n",
              "       width=\"24px\">\n",
              "    <path d=\"M0 0h24v24H0V0z\" fill=\"none\"/>\n",
              "    <path d=\"M18.56 5.44l.94 2.06.94-2.06 2.06-.94-2.06-.94-.94-2.06-.94 2.06-2.06.94zm-11 1L8.5 8.5l.94-2.06 2.06-.94-2.06-.94L8.5 2.5l-.94 2.06-2.06.94zm10 10l.94 2.06.94-2.06 2.06-.94-2.06-.94-.94-2.06-.94 2.06-2.06.94z\"/><path d=\"M17.41 7.96l-1.37-1.37c-.4-.4-.92-.59-1.43-.59-.52 0-1.04.2-1.43.59L10.3 9.45l-7.72 7.72c-.78.78-.78 2.05 0 2.83L4 21.41c.39.39.9.59 1.41.59.51 0 1.02-.2 1.41-.59l7.78-7.78 2.81-2.81c.8-.78.8-2.07 0-2.86zM5.41 20L4 18.59l7.72-7.72 1.47 1.35L5.41 20z\"/>\n",
              "  </svg>\n",
              "      </button>\n",
              "      \n",
              "  <style>\n",
              "    .colab-df-container {\n",
              "      display:flex;\n",
              "      flex-wrap:wrap;\n",
              "      gap: 12px;\n",
              "    }\n",
              "\n",
              "    .colab-df-convert {\n",
              "      background-color: #E8F0FE;\n",
              "      border: none;\n",
              "      border-radius: 50%;\n",
              "      cursor: pointer;\n",
              "      display: none;\n",
              "      fill: #1967D2;\n",
              "      height: 32px;\n",
              "      padding: 0 0 0 0;\n",
              "      width: 32px;\n",
              "    }\n",
              "\n",
              "    .colab-df-convert:hover {\n",
              "      background-color: #E2EBFA;\n",
              "      box-shadow: 0px 1px 2px rgba(60, 64, 67, 0.3), 0px 1px 3px 1px rgba(60, 64, 67, 0.15);\n",
              "      fill: #174EA6;\n",
              "    }\n",
              "\n",
              "    [theme=dark] .colab-df-convert {\n",
              "      background-color: #3B4455;\n",
              "      fill: #D2E3FC;\n",
              "    }\n",
              "\n",
              "    [theme=dark] .colab-df-convert:hover {\n",
              "      background-color: #434B5C;\n",
              "      box-shadow: 0px 1px 3px 1px rgba(0, 0, 0, 0.15);\n",
              "      filter: drop-shadow(0px 1px 2px rgba(0, 0, 0, 0.3));\n",
              "      fill: #FFFFFF;\n",
              "    }\n",
              "  </style>\n",
              "\n",
              "      <script>\n",
              "        const buttonEl =\n",
              "          document.querySelector('#df-d1414d69-8988-4d47-b736-751aa072a247 button.colab-df-convert');\n",
              "        buttonEl.style.display =\n",
              "          google.colab.kernel.accessAllowed ? 'block' : 'none';\n",
              "\n",
              "        async function convertToInteractive(key) {\n",
              "          const element = document.querySelector('#df-d1414d69-8988-4d47-b736-751aa072a247');\n",
              "          const dataTable =\n",
              "            await google.colab.kernel.invokeFunction('convertToInteractive',\n",
              "                                                     [key], {});\n",
              "          if (!dataTable) return;\n",
              "\n",
              "          const docLinkHtml = 'Like what you see? Visit the ' +\n",
              "            '<a target=\"_blank\" href=https://colab.research.google.com/notebooks/data_table.ipynb>data table notebook</a>'\n",
              "            + ' to learn more about interactive tables.';\n",
              "          element.innerHTML = '';\n",
              "          dataTable['output_type'] = 'display_data';\n",
              "          await google.colab.output.renderOutput(dataTable, element);\n",
              "          const docLink = document.createElement('div');\n",
              "          docLink.innerHTML = docLinkHtml;\n",
              "          element.appendChild(docLink);\n",
              "        }\n",
              "      </script>\n",
              "    </div>\n",
              "  </div>\n",
              "  "
            ]
          },
          "metadata": {},
          "execution_count": 76
        }
      ]
    },
    {
      "cell_type": "code",
      "source": [
        "df.duplicated().sum()"
      ],
      "metadata": {
        "colab": {
          "base_uri": "https://localhost:8080/"
        },
        "id": "W7TbykgxFXqv",
        "outputId": "6b4fe651-126b-4147-869e-65df0ae8e357"
      },
      "execution_count": null,
      "outputs": [
        {
          "output_type": "execute_result",
          "data": {
            "text/plain": [
              "0"
            ]
          },
          "metadata": {},
          "execution_count": 78
        }
      ]
    },
    {
      "cell_type": "code",
      "source": [
        "df2.isnull().sum()\n"
      ],
      "metadata": {
        "colab": {
          "base_uri": "https://localhost:8080/"
        },
        "id": "HOECuM2tFctB",
        "outputId": "4be51896-40b6-42f2-c5d7-e28b14f73de2"
      },
      "execution_count": null,
      "outputs": [
        {
          "output_type": "execute_result",
          "data": {
            "text/plain": [
              "first_name                             0\n",
              "last_name                              0\n",
              "gender                                 0\n",
              "past_3_years_bike_related_purchases    0\n",
              "dob                                    0\n",
              "job_title                              0\n",
              "job_industry_category                  0\n",
              "wealth_segment                         0\n",
              "deceased_indicator                     0\n",
              "owns_car                               0\n",
              "tenure                                 0\n",
              "address                                0\n",
              "postcode                               0\n",
              "state                                  0\n",
              "country                                0\n",
              "property_valuation                     0\n",
              "rank                                   0\n",
              "value                                  0\n",
              "dtype: int64"
            ]
          },
          "metadata": {},
          "execution_count": 79
        }
      ]
    },
    {
      "cell_type": "code",
      "source": [
        "df2['new_id'] = df2.index\n"
      ],
      "metadata": {
        "id": "GZp8qh0mFhCK"
      },
      "execution_count": null,
      "outputs": []
    },
    {
      "cell_type": "code",
      "source": [
        "df2['dob'] = pd.to_datetime(df2['dob'], errors='coerce')\n"
      ],
      "metadata": {
        "id": "uuHREx-9FmJm"
      },
      "execution_count": null,
      "outputs": []
    },
    {
      "cell_type": "code",
      "source": [
        "df2.dtypes\n"
      ],
      "metadata": {
        "colab": {
          "base_uri": "https://localhost:8080/"
        },
        "id": "2-_kSw4EFpP7",
        "outputId": "cc0e0e27-a012-4ea7-df01-fd344b4d2587"
      },
      "execution_count": null,
      "outputs": [
        {
          "output_type": "execute_result",
          "data": {
            "text/plain": [
              "first_name                                     object\n",
              "last_name                                      object\n",
              "gender                                         object\n",
              "past_3_years_bike_related_purchases             int64\n",
              "dob                                    datetime64[ns]\n",
              "job_title                                      object\n",
              "job_industry_category                          object\n",
              "wealth_segment                                 object\n",
              "deceased_indicator                             object\n",
              "owns_car                                       object\n",
              "tenure                                          int64\n",
              "address                                        object\n",
              "postcode                                        int64\n",
              "state                                          object\n",
              "country                                        object\n",
              "property_valuation                              int64\n",
              "rank                                            int64\n",
              "value                                         float64\n",
              "new_id                                          int64\n",
              "dtype: object"
            ]
          },
          "metadata": {},
          "execution_count": 82
        }
      ]
    },
    {
      "cell_type": "code",
      "source": [
        "df2['dob'] = df2['dob'].apply(lambda x: x.strftime('%Y-%m-%d')if not pd.isnull(x) else '')\n"
      ],
      "metadata": {
        "id": "3K5okHEEFr7k"
      },
      "execution_count": null,
      "outputs": []
    },
    {
      "cell_type": "code",
      "source": [
        "df2['dob'].astype('datetime64')\n"
      ],
      "metadata": {
        "colab": {
          "base_uri": "https://localhost:8080/"
        },
        "id": "c2G3pM2oGGSM",
        "outputId": "289d664f-9a57-44f7-896e-26e3d15d0fac"
      },
      "execution_count": null,
      "outputs": [
        {
          "output_type": "execute_result",
          "data": {
            "text/plain": [
              "0     1957-07-12\n",
              "1     1970-03-22\n",
              "2     1974-08-28\n",
              "3     1979-01-28\n",
              "4     1965-09-21\n",
              "         ...    \n",
              "995   1959-10-07\n",
              "996   2001-10-17\n",
              "997   1954-10-05\n",
              "998   1952-12-17\n",
              "999   1955-10-02\n",
              "Name: dob, Length: 1000, dtype: datetime64[ns]"
            ]
          },
          "metadata": {},
          "execution_count": 84
        }
      ]
    },
    {
      "cell_type": "code",
      "source": [
        "ref_date2 = dt.datetime.now()\n",
        "df2['Age'] = df2['dob'].apply(lambda x: len(pd.date_range(start = x, end = ref_date2, freq = 'Y')) if str(x) else None)"
      ],
      "metadata": {
        "id": "dyBDY8-eGIlI"
      },
      "execution_count": null,
      "outputs": []
    },
    {
      "cell_type": "code",
      "source": [
        "df2"
      ],
      "metadata": {
        "colab": {
          "base_uri": "https://localhost:8080/",
          "height": 800
        },
        "id": "3non9mTHGTxY",
        "outputId": "139bc370-5448-4c56-badc-90a7bbbab692"
      },
      "execution_count": null,
      "outputs": [
        {
          "output_type": "execute_result",
          "data": {
            "text/plain": [
              "    first_name  last_name  gender  past_3_years_bike_related_purchases  \\\n",
              "0      Chickie    Brister    Male                                   86   \n",
              "1        Morly     Genery    Male                                   69   \n",
              "2      Ardelis  Forrester  Female                                   10   \n",
              "3       Lucine      Stutt  Female                                   64   \n",
              "4      Melinda     Hadlee  Female                                   34   \n",
              "..         ...        ...     ...                                  ...   \n",
              "995  Ferdinand  Romanetti    Male                                   60   \n",
              "996       Burk    Wortley    Male                                   22   \n",
              "997   Melloney      Temby  Female                                   17   \n",
              "998     Dickie    Cubbini    Male                                   30   \n",
              "999      Sylas    Duffill    Male                                   56   \n",
              "\n",
              "            dob                     job_title job_industry_category  \\\n",
              "0    1957-07-12               General Manager         Manufacturing   \n",
              "1    1970-03-22           Structural Engineer              Property   \n",
              "2    1974-08-28        Senior Cost Accountant    Financial Services   \n",
              "3    1979-01-28    Account Representative III         Manufacturing   \n",
              "4    1965-09-21             Financial Analyst    Financial Services   \n",
              "..          ...                           ...                   ...   \n",
              "995  1959-10-07                     Paralegal    Financial Services   \n",
              "996  2001-10-17        Senior Sales Associate                Health   \n",
              "997  1954-10-05  Budget/Accounting Analyst IV    Financial Services   \n",
              "998  1952-12-17             Financial Advisor    Financial Services   \n",
              "999  1955-10-02           Staff Accountant IV              Property   \n",
              "\n",
              "        wealth_segment deceased_indicator owns_car  tenure  \\\n",
              "0        Mass Customer                  N      Yes      14   \n",
              "1        Mass Customer                  N       No      16   \n",
              "2    Affluent Customer                  N       No      10   \n",
              "3    Affluent Customer                  N      Yes       5   \n",
              "4    Affluent Customer                  N       No      19   \n",
              "..                 ...                ...      ...     ...   \n",
              "995  Affluent Customer                  N       No       9   \n",
              "996      Mass Customer                  N       No       6   \n",
              "997  Affluent Customer                  N      Yes      15   \n",
              "998      Mass Customer                  N      Yes      19   \n",
              "999      Mass Customer                  N      Yes      14   \n",
              "\n",
              "                      address  postcode state    country  property_valuation  \\\n",
              "0            45 Shopko Center      4500   QLD  Australia                   6   \n",
              "1           14 Mccormick Park      2113   NSW  Australia                  11   \n",
              "2         5 Colorado Crossing      3505   VIC  Australia                   5   \n",
              "3          207 Annamark Plaza      4814   QLD  Australia                   1   \n",
              "4           115 Montana Place      2093   NSW  Australia                   9   \n",
              "..                        ...       ...   ...        ...                 ...   \n",
              "995               2 Sloan Way      2200   NSW  Australia                   7   \n",
              "996         04 Union Crossing      2196   NSW  Australia                  10   \n",
              "997  33475 Fair Oaks Junction      4702   QLD  Australia                   2   \n",
              "998        57666 Victoria Way      4215   QLD  Australia                   2   \n",
              "999        21875 Grover Drive      2010   NSW  Australia                   9   \n",
              "\n",
              "     rank  value  new_id   Age  \n",
              "0       1  1.719       0  65.0  \n",
              "1       1  1.719       1  52.0  \n",
              "2       1  1.719       2  48.0  \n",
              "3       4  1.703       3  43.0  \n",
              "4       4  1.703       4  57.0  \n",
              "..    ...    ...     ...   ...  \n",
              "995   996  0.374     995  63.0  \n",
              "996   997  0.357     996  21.0  \n",
              "997   997  0.357     997  68.0  \n",
              "998   997  0.357     998  70.0  \n",
              "999  1000  0.340     999  67.0  \n",
              "\n",
              "[1000 rows x 20 columns]"
            ],
            "text/html": [
              "\n",
              "  <div id=\"df-8f6fc07a-49d8-4b77-9291-3c62ec6b4fab\">\n",
              "    <div class=\"colab-df-container\">\n",
              "      <div>\n",
              "<style scoped>\n",
              "    .dataframe tbody tr th:only-of-type {\n",
              "        vertical-align: middle;\n",
              "    }\n",
              "\n",
              "    .dataframe tbody tr th {\n",
              "        vertical-align: top;\n",
              "    }\n",
              "\n",
              "    .dataframe thead th {\n",
              "        text-align: right;\n",
              "    }\n",
              "</style>\n",
              "<table border=\"1\" class=\"dataframe\">\n",
              "  <thead>\n",
              "    <tr style=\"text-align: right;\">\n",
              "      <th></th>\n",
              "      <th>first_name</th>\n",
              "      <th>last_name</th>\n",
              "      <th>gender</th>\n",
              "      <th>past_3_years_bike_related_purchases</th>\n",
              "      <th>dob</th>\n",
              "      <th>job_title</th>\n",
              "      <th>job_industry_category</th>\n",
              "      <th>wealth_segment</th>\n",
              "      <th>deceased_indicator</th>\n",
              "      <th>owns_car</th>\n",
              "      <th>tenure</th>\n",
              "      <th>address</th>\n",
              "      <th>postcode</th>\n",
              "      <th>state</th>\n",
              "      <th>country</th>\n",
              "      <th>property_valuation</th>\n",
              "      <th>rank</th>\n",
              "      <th>value</th>\n",
              "      <th>new_id</th>\n",
              "      <th>Age</th>\n",
              "    </tr>\n",
              "  </thead>\n",
              "  <tbody>\n",
              "    <tr>\n",
              "      <th>0</th>\n",
              "      <td>Chickie</td>\n",
              "      <td>Brister</td>\n",
              "      <td>Male</td>\n",
              "      <td>86</td>\n",
              "      <td>1957-07-12</td>\n",
              "      <td>General Manager</td>\n",
              "      <td>Manufacturing</td>\n",
              "      <td>Mass Customer</td>\n",
              "      <td>N</td>\n",
              "      <td>Yes</td>\n",
              "      <td>14</td>\n",
              "      <td>45 Shopko Center</td>\n",
              "      <td>4500</td>\n",
              "      <td>QLD</td>\n",
              "      <td>Australia</td>\n",
              "      <td>6</td>\n",
              "      <td>1</td>\n",
              "      <td>1.719</td>\n",
              "      <td>0</td>\n",
              "      <td>65.0</td>\n",
              "    </tr>\n",
              "    <tr>\n",
              "      <th>1</th>\n",
              "      <td>Morly</td>\n",
              "      <td>Genery</td>\n",
              "      <td>Male</td>\n",
              "      <td>69</td>\n",
              "      <td>1970-03-22</td>\n",
              "      <td>Structural Engineer</td>\n",
              "      <td>Property</td>\n",
              "      <td>Mass Customer</td>\n",
              "      <td>N</td>\n",
              "      <td>No</td>\n",
              "      <td>16</td>\n",
              "      <td>14 Mccormick Park</td>\n",
              "      <td>2113</td>\n",
              "      <td>NSW</td>\n",
              "      <td>Australia</td>\n",
              "      <td>11</td>\n",
              "      <td>1</td>\n",
              "      <td>1.719</td>\n",
              "      <td>1</td>\n",
              "      <td>52.0</td>\n",
              "    </tr>\n",
              "    <tr>\n",
              "      <th>2</th>\n",
              "      <td>Ardelis</td>\n",
              "      <td>Forrester</td>\n",
              "      <td>Female</td>\n",
              "      <td>10</td>\n",
              "      <td>1974-08-28</td>\n",
              "      <td>Senior Cost Accountant</td>\n",
              "      <td>Financial Services</td>\n",
              "      <td>Affluent Customer</td>\n",
              "      <td>N</td>\n",
              "      <td>No</td>\n",
              "      <td>10</td>\n",
              "      <td>5 Colorado Crossing</td>\n",
              "      <td>3505</td>\n",
              "      <td>VIC</td>\n",
              "      <td>Australia</td>\n",
              "      <td>5</td>\n",
              "      <td>1</td>\n",
              "      <td>1.719</td>\n",
              "      <td>2</td>\n",
              "      <td>48.0</td>\n",
              "    </tr>\n",
              "    <tr>\n",
              "      <th>3</th>\n",
              "      <td>Lucine</td>\n",
              "      <td>Stutt</td>\n",
              "      <td>Female</td>\n",
              "      <td>64</td>\n",
              "      <td>1979-01-28</td>\n",
              "      <td>Account Representative III</td>\n",
              "      <td>Manufacturing</td>\n",
              "      <td>Affluent Customer</td>\n",
              "      <td>N</td>\n",
              "      <td>Yes</td>\n",
              "      <td>5</td>\n",
              "      <td>207 Annamark Plaza</td>\n",
              "      <td>4814</td>\n",
              "      <td>QLD</td>\n",
              "      <td>Australia</td>\n",
              "      <td>1</td>\n",
              "      <td>4</td>\n",
              "      <td>1.703</td>\n",
              "      <td>3</td>\n",
              "      <td>43.0</td>\n",
              "    </tr>\n",
              "    <tr>\n",
              "      <th>4</th>\n",
              "      <td>Melinda</td>\n",
              "      <td>Hadlee</td>\n",
              "      <td>Female</td>\n",
              "      <td>34</td>\n",
              "      <td>1965-09-21</td>\n",
              "      <td>Financial Analyst</td>\n",
              "      <td>Financial Services</td>\n",
              "      <td>Affluent Customer</td>\n",
              "      <td>N</td>\n",
              "      <td>No</td>\n",
              "      <td>19</td>\n",
              "      <td>115 Montana Place</td>\n",
              "      <td>2093</td>\n",
              "      <td>NSW</td>\n",
              "      <td>Australia</td>\n",
              "      <td>9</td>\n",
              "      <td>4</td>\n",
              "      <td>1.703</td>\n",
              "      <td>4</td>\n",
              "      <td>57.0</td>\n",
              "    </tr>\n",
              "    <tr>\n",
              "      <th>...</th>\n",
              "      <td>...</td>\n",
              "      <td>...</td>\n",
              "      <td>...</td>\n",
              "      <td>...</td>\n",
              "      <td>...</td>\n",
              "      <td>...</td>\n",
              "      <td>...</td>\n",
              "      <td>...</td>\n",
              "      <td>...</td>\n",
              "      <td>...</td>\n",
              "      <td>...</td>\n",
              "      <td>...</td>\n",
              "      <td>...</td>\n",
              "      <td>...</td>\n",
              "      <td>...</td>\n",
              "      <td>...</td>\n",
              "      <td>...</td>\n",
              "      <td>...</td>\n",
              "      <td>...</td>\n",
              "      <td>...</td>\n",
              "    </tr>\n",
              "    <tr>\n",
              "      <th>995</th>\n",
              "      <td>Ferdinand</td>\n",
              "      <td>Romanetti</td>\n",
              "      <td>Male</td>\n",
              "      <td>60</td>\n",
              "      <td>1959-10-07</td>\n",
              "      <td>Paralegal</td>\n",
              "      <td>Financial Services</td>\n",
              "      <td>Affluent Customer</td>\n",
              "      <td>N</td>\n",
              "      <td>No</td>\n",
              "      <td>9</td>\n",
              "      <td>2 Sloan Way</td>\n",
              "      <td>2200</td>\n",
              "      <td>NSW</td>\n",
              "      <td>Australia</td>\n",
              "      <td>7</td>\n",
              "      <td>996</td>\n",
              "      <td>0.374</td>\n",
              "      <td>995</td>\n",
              "      <td>63.0</td>\n",
              "    </tr>\n",
              "    <tr>\n",
              "      <th>996</th>\n",
              "      <td>Burk</td>\n",
              "      <td>Wortley</td>\n",
              "      <td>Male</td>\n",
              "      <td>22</td>\n",
              "      <td>2001-10-17</td>\n",
              "      <td>Senior Sales Associate</td>\n",
              "      <td>Health</td>\n",
              "      <td>Mass Customer</td>\n",
              "      <td>N</td>\n",
              "      <td>No</td>\n",
              "      <td>6</td>\n",
              "      <td>04 Union Crossing</td>\n",
              "      <td>2196</td>\n",
              "      <td>NSW</td>\n",
              "      <td>Australia</td>\n",
              "      <td>10</td>\n",
              "      <td>997</td>\n",
              "      <td>0.357</td>\n",
              "      <td>996</td>\n",
              "      <td>21.0</td>\n",
              "    </tr>\n",
              "    <tr>\n",
              "      <th>997</th>\n",
              "      <td>Melloney</td>\n",
              "      <td>Temby</td>\n",
              "      <td>Female</td>\n",
              "      <td>17</td>\n",
              "      <td>1954-10-05</td>\n",
              "      <td>Budget/Accounting Analyst IV</td>\n",
              "      <td>Financial Services</td>\n",
              "      <td>Affluent Customer</td>\n",
              "      <td>N</td>\n",
              "      <td>Yes</td>\n",
              "      <td>15</td>\n",
              "      <td>33475 Fair Oaks Junction</td>\n",
              "      <td>4702</td>\n",
              "      <td>QLD</td>\n",
              "      <td>Australia</td>\n",
              "      <td>2</td>\n",
              "      <td>997</td>\n",
              "      <td>0.357</td>\n",
              "      <td>997</td>\n",
              "      <td>68.0</td>\n",
              "    </tr>\n",
              "    <tr>\n",
              "      <th>998</th>\n",
              "      <td>Dickie</td>\n",
              "      <td>Cubbini</td>\n",
              "      <td>Male</td>\n",
              "      <td>30</td>\n",
              "      <td>1952-12-17</td>\n",
              "      <td>Financial Advisor</td>\n",
              "      <td>Financial Services</td>\n",
              "      <td>Mass Customer</td>\n",
              "      <td>N</td>\n",
              "      <td>Yes</td>\n",
              "      <td>19</td>\n",
              "      <td>57666 Victoria Way</td>\n",
              "      <td>4215</td>\n",
              "      <td>QLD</td>\n",
              "      <td>Australia</td>\n",
              "      <td>2</td>\n",
              "      <td>997</td>\n",
              "      <td>0.357</td>\n",
              "      <td>998</td>\n",
              "      <td>70.0</td>\n",
              "    </tr>\n",
              "    <tr>\n",
              "      <th>999</th>\n",
              "      <td>Sylas</td>\n",
              "      <td>Duffill</td>\n",
              "      <td>Male</td>\n",
              "      <td>56</td>\n",
              "      <td>1955-10-02</td>\n",
              "      <td>Staff Accountant IV</td>\n",
              "      <td>Property</td>\n",
              "      <td>Mass Customer</td>\n",
              "      <td>N</td>\n",
              "      <td>Yes</td>\n",
              "      <td>14</td>\n",
              "      <td>21875 Grover Drive</td>\n",
              "      <td>2010</td>\n",
              "      <td>NSW</td>\n",
              "      <td>Australia</td>\n",
              "      <td>9</td>\n",
              "      <td>1000</td>\n",
              "      <td>0.340</td>\n",
              "      <td>999</td>\n",
              "      <td>67.0</td>\n",
              "    </tr>\n",
              "  </tbody>\n",
              "</table>\n",
              "<p>1000 rows × 20 columns</p>\n",
              "</div>\n",
              "      <button class=\"colab-df-convert\" onclick=\"convertToInteractive('df-8f6fc07a-49d8-4b77-9291-3c62ec6b4fab')\"\n",
              "              title=\"Convert this dataframe to an interactive table.\"\n",
              "              style=\"display:none;\">\n",
              "        \n",
              "  <svg xmlns=\"http://www.w3.org/2000/svg\" height=\"24px\"viewBox=\"0 0 24 24\"\n",
              "       width=\"24px\">\n",
              "    <path d=\"M0 0h24v24H0V0z\" fill=\"none\"/>\n",
              "    <path d=\"M18.56 5.44l.94 2.06.94-2.06 2.06-.94-2.06-.94-.94-2.06-.94 2.06-2.06.94zm-11 1L8.5 8.5l.94-2.06 2.06-.94-2.06-.94L8.5 2.5l-.94 2.06-2.06.94zm10 10l.94 2.06.94-2.06 2.06-.94-2.06-.94-.94-2.06-.94 2.06-2.06.94z\"/><path d=\"M17.41 7.96l-1.37-1.37c-.4-.4-.92-.59-1.43-.59-.52 0-1.04.2-1.43.59L10.3 9.45l-7.72 7.72c-.78.78-.78 2.05 0 2.83L4 21.41c.39.39.9.59 1.41.59.51 0 1.02-.2 1.41-.59l7.78-7.78 2.81-2.81c.8-.78.8-2.07 0-2.86zM5.41 20L4 18.59l7.72-7.72 1.47 1.35L5.41 20z\"/>\n",
              "  </svg>\n",
              "      </button>\n",
              "      \n",
              "  <style>\n",
              "    .colab-df-container {\n",
              "      display:flex;\n",
              "      flex-wrap:wrap;\n",
              "      gap: 12px;\n",
              "    }\n",
              "\n",
              "    .colab-df-convert {\n",
              "      background-color: #E8F0FE;\n",
              "      border: none;\n",
              "      border-radius: 50%;\n",
              "      cursor: pointer;\n",
              "      display: none;\n",
              "      fill: #1967D2;\n",
              "      height: 32px;\n",
              "      padding: 0 0 0 0;\n",
              "      width: 32px;\n",
              "    }\n",
              "\n",
              "    .colab-df-convert:hover {\n",
              "      background-color: #E2EBFA;\n",
              "      box-shadow: 0px 1px 2px rgba(60, 64, 67, 0.3), 0px 1px 3px 1px rgba(60, 64, 67, 0.15);\n",
              "      fill: #174EA6;\n",
              "    }\n",
              "\n",
              "    [theme=dark] .colab-df-convert {\n",
              "      background-color: #3B4455;\n",
              "      fill: #D2E3FC;\n",
              "    }\n",
              "\n",
              "    [theme=dark] .colab-df-convert:hover {\n",
              "      background-color: #434B5C;\n",
              "      box-shadow: 0px 1px 3px 1px rgba(0, 0, 0, 0.15);\n",
              "      filter: drop-shadow(0px 1px 2px rgba(0, 0, 0, 0.3));\n",
              "      fill: #FFFFFF;\n",
              "    }\n",
              "  </style>\n",
              "\n",
              "      <script>\n",
              "        const buttonEl =\n",
              "          document.querySelector('#df-8f6fc07a-49d8-4b77-9291-3c62ec6b4fab button.colab-df-convert');\n",
              "        buttonEl.style.display =\n",
              "          google.colab.kernel.accessAllowed ? 'block' : 'none';\n",
              "\n",
              "        async function convertToInteractive(key) {\n",
              "          const element = document.querySelector('#df-8f6fc07a-49d8-4b77-9291-3c62ec6b4fab');\n",
              "          const dataTable =\n",
              "            await google.colab.kernel.invokeFunction('convertToInteractive',\n",
              "                                                     [key], {});\n",
              "          if (!dataTable) return;\n",
              "\n",
              "          const docLinkHtml = 'Like what you see? Visit the ' +\n",
              "            '<a target=\"_blank\" href=https://colab.research.google.com/notebooks/data_table.ipynb>data table notebook</a>'\n",
              "            + ' to learn more about interactive tables.';\n",
              "          element.innerHTML = '';\n",
              "          dataTable['output_type'] = 'display_data';\n",
              "          await google.colab.output.renderOutput(dataTable, element);\n",
              "          const docLink = document.createElement('div');\n",
              "          docLink.innerHTML = docLinkHtml;\n",
              "          element.appendChild(docLink);\n",
              "        }\n",
              "      </script>\n",
              "    </div>\n",
              "  </div>\n",
              "  "
            ]
          },
          "metadata": {},
          "execution_count": 86
        }
      ]
    },
    {
      "cell_type": "code",
      "source": [
        "df2 = df2[df2.Age < 100]\n"
      ],
      "metadata": {
        "id": "U4PEJGNYGW8N"
      },
      "execution_count": null,
      "outputs": []
    },
    {
      "cell_type": "code",
      "source": [
        "df2"
      ],
      "metadata": {
        "colab": {
          "base_uri": "https://localhost:8080/",
          "height": 800
        },
        "id": "dkAj_vFMGZUC",
        "outputId": "56f4dc6c-fd91-44d5-e58c-13eaf8bd09e3"
      },
      "execution_count": null,
      "outputs": [
        {
          "output_type": "execute_result",
          "data": {
            "text/plain": [
              "    first_name  last_name  gender  past_3_years_bike_related_purchases  \\\n",
              "0      Chickie    Brister    Male                                   86   \n",
              "1        Morly     Genery    Male                                   69   \n",
              "2      Ardelis  Forrester  Female                                   10   \n",
              "3       Lucine      Stutt  Female                                   64   \n",
              "4      Melinda     Hadlee  Female                                   34   \n",
              "..         ...        ...     ...                                  ...   \n",
              "995  Ferdinand  Romanetti    Male                                   60   \n",
              "996       Burk    Wortley    Male                                   22   \n",
              "997   Melloney      Temby  Female                                   17   \n",
              "998     Dickie    Cubbini    Male                                   30   \n",
              "999      Sylas    Duffill    Male                                   56   \n",
              "\n",
              "            dob                     job_title job_industry_category  \\\n",
              "0    1957-07-12               General Manager         Manufacturing   \n",
              "1    1970-03-22           Structural Engineer              Property   \n",
              "2    1974-08-28        Senior Cost Accountant    Financial Services   \n",
              "3    1979-01-28    Account Representative III         Manufacturing   \n",
              "4    1965-09-21             Financial Analyst    Financial Services   \n",
              "..          ...                           ...                   ...   \n",
              "995  1959-10-07                     Paralegal    Financial Services   \n",
              "996  2001-10-17        Senior Sales Associate                Health   \n",
              "997  1954-10-05  Budget/Accounting Analyst IV    Financial Services   \n",
              "998  1952-12-17             Financial Advisor    Financial Services   \n",
              "999  1955-10-02           Staff Accountant IV              Property   \n",
              "\n",
              "        wealth_segment deceased_indicator owns_car  tenure  \\\n",
              "0        Mass Customer                  N      Yes      14   \n",
              "1        Mass Customer                  N       No      16   \n",
              "2    Affluent Customer                  N       No      10   \n",
              "3    Affluent Customer                  N      Yes       5   \n",
              "4    Affluent Customer                  N       No      19   \n",
              "..                 ...                ...      ...     ...   \n",
              "995  Affluent Customer                  N       No       9   \n",
              "996      Mass Customer                  N       No       6   \n",
              "997  Affluent Customer                  N      Yes      15   \n",
              "998      Mass Customer                  N      Yes      19   \n",
              "999      Mass Customer                  N      Yes      14   \n",
              "\n",
              "                      address  postcode state    country  property_valuation  \\\n",
              "0            45 Shopko Center      4500   QLD  Australia                   6   \n",
              "1           14 Mccormick Park      2113   NSW  Australia                  11   \n",
              "2         5 Colorado Crossing      3505   VIC  Australia                   5   \n",
              "3          207 Annamark Plaza      4814   QLD  Australia                   1   \n",
              "4           115 Montana Place      2093   NSW  Australia                   9   \n",
              "..                        ...       ...   ...        ...                 ...   \n",
              "995               2 Sloan Way      2200   NSW  Australia                   7   \n",
              "996         04 Union Crossing      2196   NSW  Australia                  10   \n",
              "997  33475 Fair Oaks Junction      4702   QLD  Australia                   2   \n",
              "998        57666 Victoria Way      4215   QLD  Australia                   2   \n",
              "999        21875 Grover Drive      2010   NSW  Australia                   9   \n",
              "\n",
              "     rank  value  new_id   Age  \n",
              "0       1  1.719       0  65.0  \n",
              "1       1  1.719       1  52.0  \n",
              "2       1  1.719       2  48.0  \n",
              "3       4  1.703       3  43.0  \n",
              "4       4  1.703       4  57.0  \n",
              "..    ...    ...     ...   ...  \n",
              "995   996  0.374     995  63.0  \n",
              "996   997  0.357     996  21.0  \n",
              "997   997  0.357     997  68.0  \n",
              "998   997  0.357     998  70.0  \n",
              "999  1000  0.340     999  67.0  \n",
              "\n",
              "[983 rows x 20 columns]"
            ],
            "text/html": [
              "\n",
              "  <div id=\"df-192fdef2-1f7b-41e6-b1c2-2e8481fc4840\">\n",
              "    <div class=\"colab-df-container\">\n",
              "      <div>\n",
              "<style scoped>\n",
              "    .dataframe tbody tr th:only-of-type {\n",
              "        vertical-align: middle;\n",
              "    }\n",
              "\n",
              "    .dataframe tbody tr th {\n",
              "        vertical-align: top;\n",
              "    }\n",
              "\n",
              "    .dataframe thead th {\n",
              "        text-align: right;\n",
              "    }\n",
              "</style>\n",
              "<table border=\"1\" class=\"dataframe\">\n",
              "  <thead>\n",
              "    <tr style=\"text-align: right;\">\n",
              "      <th></th>\n",
              "      <th>first_name</th>\n",
              "      <th>last_name</th>\n",
              "      <th>gender</th>\n",
              "      <th>past_3_years_bike_related_purchases</th>\n",
              "      <th>dob</th>\n",
              "      <th>job_title</th>\n",
              "      <th>job_industry_category</th>\n",
              "      <th>wealth_segment</th>\n",
              "      <th>deceased_indicator</th>\n",
              "      <th>owns_car</th>\n",
              "      <th>tenure</th>\n",
              "      <th>address</th>\n",
              "      <th>postcode</th>\n",
              "      <th>state</th>\n",
              "      <th>country</th>\n",
              "      <th>property_valuation</th>\n",
              "      <th>rank</th>\n",
              "      <th>value</th>\n",
              "      <th>new_id</th>\n",
              "      <th>Age</th>\n",
              "    </tr>\n",
              "  </thead>\n",
              "  <tbody>\n",
              "    <tr>\n",
              "      <th>0</th>\n",
              "      <td>Chickie</td>\n",
              "      <td>Brister</td>\n",
              "      <td>Male</td>\n",
              "      <td>86</td>\n",
              "      <td>1957-07-12</td>\n",
              "      <td>General Manager</td>\n",
              "      <td>Manufacturing</td>\n",
              "      <td>Mass Customer</td>\n",
              "      <td>N</td>\n",
              "      <td>Yes</td>\n",
              "      <td>14</td>\n",
              "      <td>45 Shopko Center</td>\n",
              "      <td>4500</td>\n",
              "      <td>QLD</td>\n",
              "      <td>Australia</td>\n",
              "      <td>6</td>\n",
              "      <td>1</td>\n",
              "      <td>1.719</td>\n",
              "      <td>0</td>\n",
              "      <td>65.0</td>\n",
              "    </tr>\n",
              "    <tr>\n",
              "      <th>1</th>\n",
              "      <td>Morly</td>\n",
              "      <td>Genery</td>\n",
              "      <td>Male</td>\n",
              "      <td>69</td>\n",
              "      <td>1970-03-22</td>\n",
              "      <td>Structural Engineer</td>\n",
              "      <td>Property</td>\n",
              "      <td>Mass Customer</td>\n",
              "      <td>N</td>\n",
              "      <td>No</td>\n",
              "      <td>16</td>\n",
              "      <td>14 Mccormick Park</td>\n",
              "      <td>2113</td>\n",
              "      <td>NSW</td>\n",
              "      <td>Australia</td>\n",
              "      <td>11</td>\n",
              "      <td>1</td>\n",
              "      <td>1.719</td>\n",
              "      <td>1</td>\n",
              "      <td>52.0</td>\n",
              "    </tr>\n",
              "    <tr>\n",
              "      <th>2</th>\n",
              "      <td>Ardelis</td>\n",
              "      <td>Forrester</td>\n",
              "      <td>Female</td>\n",
              "      <td>10</td>\n",
              "      <td>1974-08-28</td>\n",
              "      <td>Senior Cost Accountant</td>\n",
              "      <td>Financial Services</td>\n",
              "      <td>Affluent Customer</td>\n",
              "      <td>N</td>\n",
              "      <td>No</td>\n",
              "      <td>10</td>\n",
              "      <td>5 Colorado Crossing</td>\n",
              "      <td>3505</td>\n",
              "      <td>VIC</td>\n",
              "      <td>Australia</td>\n",
              "      <td>5</td>\n",
              "      <td>1</td>\n",
              "      <td>1.719</td>\n",
              "      <td>2</td>\n",
              "      <td>48.0</td>\n",
              "    </tr>\n",
              "    <tr>\n",
              "      <th>3</th>\n",
              "      <td>Lucine</td>\n",
              "      <td>Stutt</td>\n",
              "      <td>Female</td>\n",
              "      <td>64</td>\n",
              "      <td>1979-01-28</td>\n",
              "      <td>Account Representative III</td>\n",
              "      <td>Manufacturing</td>\n",
              "      <td>Affluent Customer</td>\n",
              "      <td>N</td>\n",
              "      <td>Yes</td>\n",
              "      <td>5</td>\n",
              "      <td>207 Annamark Plaza</td>\n",
              "      <td>4814</td>\n",
              "      <td>QLD</td>\n",
              "      <td>Australia</td>\n",
              "      <td>1</td>\n",
              "      <td>4</td>\n",
              "      <td>1.703</td>\n",
              "      <td>3</td>\n",
              "      <td>43.0</td>\n",
              "    </tr>\n",
              "    <tr>\n",
              "      <th>4</th>\n",
              "      <td>Melinda</td>\n",
              "      <td>Hadlee</td>\n",
              "      <td>Female</td>\n",
              "      <td>34</td>\n",
              "      <td>1965-09-21</td>\n",
              "      <td>Financial Analyst</td>\n",
              "      <td>Financial Services</td>\n",
              "      <td>Affluent Customer</td>\n",
              "      <td>N</td>\n",
              "      <td>No</td>\n",
              "      <td>19</td>\n",
              "      <td>115 Montana Place</td>\n",
              "      <td>2093</td>\n",
              "      <td>NSW</td>\n",
              "      <td>Australia</td>\n",
              "      <td>9</td>\n",
              "      <td>4</td>\n",
              "      <td>1.703</td>\n",
              "      <td>4</td>\n",
              "      <td>57.0</td>\n",
              "    </tr>\n",
              "    <tr>\n",
              "      <th>...</th>\n",
              "      <td>...</td>\n",
              "      <td>...</td>\n",
              "      <td>...</td>\n",
              "      <td>...</td>\n",
              "      <td>...</td>\n",
              "      <td>...</td>\n",
              "      <td>...</td>\n",
              "      <td>...</td>\n",
              "      <td>...</td>\n",
              "      <td>...</td>\n",
              "      <td>...</td>\n",
              "      <td>...</td>\n",
              "      <td>...</td>\n",
              "      <td>...</td>\n",
              "      <td>...</td>\n",
              "      <td>...</td>\n",
              "      <td>...</td>\n",
              "      <td>...</td>\n",
              "      <td>...</td>\n",
              "      <td>...</td>\n",
              "    </tr>\n",
              "    <tr>\n",
              "      <th>995</th>\n",
              "      <td>Ferdinand</td>\n",
              "      <td>Romanetti</td>\n",
              "      <td>Male</td>\n",
              "      <td>60</td>\n",
              "      <td>1959-10-07</td>\n",
              "      <td>Paralegal</td>\n",
              "      <td>Financial Services</td>\n",
              "      <td>Affluent Customer</td>\n",
              "      <td>N</td>\n",
              "      <td>No</td>\n",
              "      <td>9</td>\n",
              "      <td>2 Sloan Way</td>\n",
              "      <td>2200</td>\n",
              "      <td>NSW</td>\n",
              "      <td>Australia</td>\n",
              "      <td>7</td>\n",
              "      <td>996</td>\n",
              "      <td>0.374</td>\n",
              "      <td>995</td>\n",
              "      <td>63.0</td>\n",
              "    </tr>\n",
              "    <tr>\n",
              "      <th>996</th>\n",
              "      <td>Burk</td>\n",
              "      <td>Wortley</td>\n",
              "      <td>Male</td>\n",
              "      <td>22</td>\n",
              "      <td>2001-10-17</td>\n",
              "      <td>Senior Sales Associate</td>\n",
              "      <td>Health</td>\n",
              "      <td>Mass Customer</td>\n",
              "      <td>N</td>\n",
              "      <td>No</td>\n",
              "      <td>6</td>\n",
              "      <td>04 Union Crossing</td>\n",
              "      <td>2196</td>\n",
              "      <td>NSW</td>\n",
              "      <td>Australia</td>\n",
              "      <td>10</td>\n",
              "      <td>997</td>\n",
              "      <td>0.357</td>\n",
              "      <td>996</td>\n",
              "      <td>21.0</td>\n",
              "    </tr>\n",
              "    <tr>\n",
              "      <th>997</th>\n",
              "      <td>Melloney</td>\n",
              "      <td>Temby</td>\n",
              "      <td>Female</td>\n",
              "      <td>17</td>\n",
              "      <td>1954-10-05</td>\n",
              "      <td>Budget/Accounting Analyst IV</td>\n",
              "      <td>Financial Services</td>\n",
              "      <td>Affluent Customer</td>\n",
              "      <td>N</td>\n",
              "      <td>Yes</td>\n",
              "      <td>15</td>\n",
              "      <td>33475 Fair Oaks Junction</td>\n",
              "      <td>4702</td>\n",
              "      <td>QLD</td>\n",
              "      <td>Australia</td>\n",
              "      <td>2</td>\n",
              "      <td>997</td>\n",
              "      <td>0.357</td>\n",
              "      <td>997</td>\n",
              "      <td>68.0</td>\n",
              "    </tr>\n",
              "    <tr>\n",
              "      <th>998</th>\n",
              "      <td>Dickie</td>\n",
              "      <td>Cubbini</td>\n",
              "      <td>Male</td>\n",
              "      <td>30</td>\n",
              "      <td>1952-12-17</td>\n",
              "      <td>Financial Advisor</td>\n",
              "      <td>Financial Services</td>\n",
              "      <td>Mass Customer</td>\n",
              "      <td>N</td>\n",
              "      <td>Yes</td>\n",
              "      <td>19</td>\n",
              "      <td>57666 Victoria Way</td>\n",
              "      <td>4215</td>\n",
              "      <td>QLD</td>\n",
              "      <td>Australia</td>\n",
              "      <td>2</td>\n",
              "      <td>997</td>\n",
              "      <td>0.357</td>\n",
              "      <td>998</td>\n",
              "      <td>70.0</td>\n",
              "    </tr>\n",
              "    <tr>\n",
              "      <th>999</th>\n",
              "      <td>Sylas</td>\n",
              "      <td>Duffill</td>\n",
              "      <td>Male</td>\n",
              "      <td>56</td>\n",
              "      <td>1955-10-02</td>\n",
              "      <td>Staff Accountant IV</td>\n",
              "      <td>Property</td>\n",
              "      <td>Mass Customer</td>\n",
              "      <td>N</td>\n",
              "      <td>Yes</td>\n",
              "      <td>14</td>\n",
              "      <td>21875 Grover Drive</td>\n",
              "      <td>2010</td>\n",
              "      <td>NSW</td>\n",
              "      <td>Australia</td>\n",
              "      <td>9</td>\n",
              "      <td>1000</td>\n",
              "      <td>0.340</td>\n",
              "      <td>999</td>\n",
              "      <td>67.0</td>\n",
              "    </tr>\n",
              "  </tbody>\n",
              "</table>\n",
              "<p>983 rows × 20 columns</p>\n",
              "</div>\n",
              "      <button class=\"colab-df-convert\" onclick=\"convertToInteractive('df-192fdef2-1f7b-41e6-b1c2-2e8481fc4840')\"\n",
              "              title=\"Convert this dataframe to an interactive table.\"\n",
              "              style=\"display:none;\">\n",
              "        \n",
              "  <svg xmlns=\"http://www.w3.org/2000/svg\" height=\"24px\"viewBox=\"0 0 24 24\"\n",
              "       width=\"24px\">\n",
              "    <path d=\"M0 0h24v24H0V0z\" fill=\"none\"/>\n",
              "    <path d=\"M18.56 5.44l.94 2.06.94-2.06 2.06-.94-2.06-.94-.94-2.06-.94 2.06-2.06.94zm-11 1L8.5 8.5l.94-2.06 2.06-.94-2.06-.94L8.5 2.5l-.94 2.06-2.06.94zm10 10l.94 2.06.94-2.06 2.06-.94-2.06-.94-.94-2.06-.94 2.06-2.06.94z\"/><path d=\"M17.41 7.96l-1.37-1.37c-.4-.4-.92-.59-1.43-.59-.52 0-1.04.2-1.43.59L10.3 9.45l-7.72 7.72c-.78.78-.78 2.05 0 2.83L4 21.41c.39.39.9.59 1.41.59.51 0 1.02-.2 1.41-.59l7.78-7.78 2.81-2.81c.8-.78.8-2.07 0-2.86zM5.41 20L4 18.59l7.72-7.72 1.47 1.35L5.41 20z\"/>\n",
              "  </svg>\n",
              "      </button>\n",
              "      \n",
              "  <style>\n",
              "    .colab-df-container {\n",
              "      display:flex;\n",
              "      flex-wrap:wrap;\n",
              "      gap: 12px;\n",
              "    }\n",
              "\n",
              "    .colab-df-convert {\n",
              "      background-color: #E8F0FE;\n",
              "      border: none;\n",
              "      border-radius: 50%;\n",
              "      cursor: pointer;\n",
              "      display: none;\n",
              "      fill: #1967D2;\n",
              "      height: 32px;\n",
              "      padding: 0 0 0 0;\n",
              "      width: 32px;\n",
              "    }\n",
              "\n",
              "    .colab-df-convert:hover {\n",
              "      background-color: #E2EBFA;\n",
              "      box-shadow: 0px 1px 2px rgba(60, 64, 67, 0.3), 0px 1px 3px 1px rgba(60, 64, 67, 0.15);\n",
              "      fill: #174EA6;\n",
              "    }\n",
              "\n",
              "    [theme=dark] .colab-df-convert {\n",
              "      background-color: #3B4455;\n",
              "      fill: #D2E3FC;\n",
              "    }\n",
              "\n",
              "    [theme=dark] .colab-df-convert:hover {\n",
              "      background-color: #434B5C;\n",
              "      box-shadow: 0px 1px 3px 1px rgba(0, 0, 0, 0.15);\n",
              "      filter: drop-shadow(0px 1px 2px rgba(0, 0, 0, 0.3));\n",
              "      fill: #FFFFFF;\n",
              "    }\n",
              "  </style>\n",
              "\n",
              "      <script>\n",
              "        const buttonEl =\n",
              "          document.querySelector('#df-192fdef2-1f7b-41e6-b1c2-2e8481fc4840 button.colab-df-convert');\n",
              "        buttonEl.style.display =\n",
              "          google.colab.kernel.accessAllowed ? 'block' : 'none';\n",
              "\n",
              "        async function convertToInteractive(key) {\n",
              "          const element = document.querySelector('#df-192fdef2-1f7b-41e6-b1c2-2e8481fc4840');\n",
              "          const dataTable =\n",
              "            await google.colab.kernel.invokeFunction('convertToInteractive',\n",
              "                                                     [key], {});\n",
              "          if (!dataTable) return;\n",
              "\n",
              "          const docLinkHtml = 'Like what you see? Visit the ' +\n",
              "            '<a target=\"_blank\" href=https://colab.research.google.com/notebooks/data_table.ipynb>data table notebook</a>'\n",
              "            + ' to learn more about interactive tables.';\n",
              "          element.innerHTML = '';\n",
              "          dataTable['output_type'] = 'display_data';\n",
              "          await google.colab.output.renderOutput(dataTable, element);\n",
              "          const docLink = document.createElement('div');\n",
              "          docLink.innerHTML = docLinkHtml;\n",
              "          element.appendChild(docLink);\n",
              "        }\n",
              "      </script>\n",
              "    </div>\n",
              "  </div>\n",
              "  "
            ]
          },
          "metadata": {},
          "execution_count": 88
        }
      ]
    },
    {
      "cell_type": "markdown",
      "source": [
        "## **Visualisation for Target data**"
      ],
      "metadata": {
        "id": "VnxUDmbTGgsU"
      }
    },
    {
      "cell_type": "code",
      "source": [
        "plt.figure(figsize = (12,8))\n",
        "plt.hist(df2['Age'], color = 'orange', edgecolor = 'white', bins=[0,24,44,64,100])\n",
        "plt.title('Age distribution histogram')\n",
        "plt.xlabel('Age')\n",
        "plt.ylabel('Frequency')\n",
        "plt.savefig('age_dist_histogram2.png')\n",
        "plt.show()"
      ],
      "metadata": {
        "colab": {
          "base_uri": "https://localhost:8080/",
          "height": 513
        },
        "id": "XcmZX5bbGarP",
        "outputId": "58df8de1-3b75-4b31-f1a7-161d8ee2bbab"
      },
      "execution_count": null,
      "outputs": [
        {
          "output_type": "display_data",
          "data": {
            "text/plain": [
              "<Figure size 864x576 with 1 Axes>"
            ],
            "image/png": "[encoded data removed]"
          },
          "metadata": {
            "needs_background": "light"
          }
        }
      ]
    },
    {
      "cell_type": "code",
      "source": [
        "sns.countplot(x = 'gender', data = df2)\n",
        "plt.title('Gender count barchart')\n",
        "plt.savefig('gender_count_new.png')\n",
        "plt.show()"
      ],
      "metadata": {
        "colab": {
          "base_uri": "https://localhost:8080/",
          "height": 295
        },
        "id": "u-cOzcy7Gp9R",
        "outputId": "bb531f2f-777c-4d64-ec52-889016fb4aef"
      },
      "execution_count": null,
      "outputs": [
        {
          "output_type": "display_data",
          "data": {
            "text/plain": [
              "<Figure size 432x288 with 1 Axes>"
            ],
            "image/png": "[encoded data removed]"
          },
          "metadata": {
            "needs_background": "light"
          }
        }
      ]
    },
    {
      "cell_type": "code",
      "source": [
        "plt.figure(figsize = (16,8))\n",
        "sns.countplot(x='job_industry_category', data = df2)\n",
        "plt.title('Job industry category barchart')\n",
        "plt.savefig('job_industry_new.png')\n",
        "plt.show()\n"
      ],
      "metadata": {
        "colab": {
          "base_uri": "https://localhost:8080/",
          "height": 514
        },
        "id": "vuWwvUIpGxA6",
        "outputId": "add9ceac-f114-4cad-fe97-704fd4975030"
      },
      "execution_count": null,
      "outputs": [
        {
          "output_type": "display_data",
          "data": {
            "text/plain": [
              "<Figure size 1152x576 with 1 Axes>"
            ],
            "image/png": "[encoded data removed]"
          },
          "metadata": {
            "needs_background": "light"
          }
        }
      ]
    },
    {
      "cell_type": "code",
      "source": [
        "plt.figure(figsize = (16,8))\n",
        "sns.countplot(x='job_industry_category', data=df2, hue='gender')\n",
        "plt.legend(title='Gender', loc='upper right', fancybox=True)\n",
        "plt.title('Job industry category across gender')\n",
        "plt.savefig('job_industry-gender_new.png')\n",
        "plt.show()\n"
      ],
      "metadata": {
        "colab": {
          "base_uri": "https://localhost:8080/",
          "height": 514
        },
        "id": "yzD9IpgFG03I",
        "outputId": "cecefd45-3a8b-465f-e400-60cb5e9c10b1"
      },
      "execution_count": null,
      "outputs": [
        {
          "output_type": "display_data",
          "data": {
            "text/plain": [
              "<Figure size 1152x576 with 1 Axes>"
            ],
            "image/png": "[encoded data removed]"
          },
          "metadata": {
            "needs_background": "light"
          }
        }
      ]
    },
    {
      "cell_type": "code",
      "source": [
        "plt.figure(figsize = (12,8))\n",
        "sns.countplot(x = 'wealth_segment', data = df2)\n",
        "plt.title('Wealth segment distribution')\n",
        "plt.xlabel('Wealth segment')\n",
        "plt.ylabel('Frequency')\n",
        "plt.savefig('wealth_segment_new.png')\n",
        "plt.show()"
      ],
      "metadata": {
        "colab": {
          "base_uri": "https://localhost:8080/",
          "height": 513
        },
        "id": "8TQIj2HaG40B",
        "outputId": "648b809a-8e62-4dc1-c053-489a98fff8f4"
      },
      "execution_count": null,
      "outputs": [
        {
          "output_type": "display_data",
          "data": {
            "text/plain": [
              "<Figure size 864x576 with 1 Axes>"
            ],
            "image/png": "[encoded data removed]"
          },
          "metadata": {
            "needs_background": "light"
          }
        }
      ]
    },
    {
      "cell_type": "code",
      "source": [
        "plt.figure(figsize = (12,8))\n",
        "sns.countplot(x='gender', data=df2, hue='owns_car')\n",
        "plt.legend(title='Owns car', loc='upper right', fancybox=True)\n",
        "plt.title('Number of cars owned across gender')\n",
        "plt.savefig('owns_car_new.png')\n",
        "plt.show()\n"
      ],
      "metadata": {
        "colab": {
          "base_uri": "https://localhost:8080/",
          "height": 513
        },
        "id": "aOj-qOm6G7Rs",
        "outputId": "4fd88e0c-995f-4118-ef6c-e9945231cc37"
      },
      "execution_count": null,
      "outputs": [
        {
          "output_type": "display_data",
          "data": {
            "text/plain": [
              "<Figure size 864x576 with 1 Axes>"
            ],
            "image/png": "[encoded data removed]"
          },
          "metadata": {
            "needs_background": "light"
          }
        }
      ]
    },
    {
      "cell_type": "code",
      "source": [
        "plt.figure(figsize = (12,8))\n",
        "sns.catplot(data=df2, x='gender', y='past_3_years_bike_related_purchases')\n",
        "plt.title('Number bike purchased across gender')\n",
        "plt.savefig('bike_purchase_new.png')\n",
        "plt.show()"
      ],
      "metadata": {
        "colab": {
          "base_uri": "https://localhost:8080/",
          "height": 403
        },
        "id": "7MgmkJYCG-Bw",
        "outputId": "cb665c0a-5a6a-4331-b769-3eb1466d1d25"
      },
      "execution_count": null,
      "outputs": [
        {
          "output_type": "display_data",
          "data": {
            "text/plain": [
              "<Figure size 864x576 with 0 Axes>"
            ]
          },
          "metadata": {}
        },
        {
          "output_type": "display_data",
          "data": {
            "text/plain": [
              "<Figure size 360x360 with 1 Axes>"
            ],
            "image/png": "[encoded data removed]"
          },
          "metadata": {
            "needs_background": "light"
          }
        }
      ]
    },
    {
      "cell_type": "code",
      "source": [
        "plt.figure(figsize = (12,8))\n",
        "sns.countplot(x='gender', data=df2, hue='wealth_segment')\n",
        "plt.legend(title='Wealth Segment', loc='upper right', fancybox=True)\n",
        "plt.title('Wealth Segment across gender')\n",
        "plt.savefig('wealth_segment-gender_new.png')\n",
        "plt.show()\n"
      ],
      "metadata": {
        "colab": {
          "base_uri": "https://localhost:8080/",
          "height": 513
        },
        "id": "UiS3aDFhHBDx",
        "outputId": "d278e9b5-e7b4-423c-d814-d7059b185a61"
      },
      "execution_count": null,
      "outputs": [
        {
          "output_type": "display_data",
          "data": {
            "text/plain": [
              "<Figure size 864x576 with 1 Axes>"
            ],
            "image/png": "[encoded data removed]"
          },
          "metadata": {
            "needs_background": "light"
          }
        }
      ]
    },
    {
      "cell_type": "code",
      "source": [
        "plt.figure(figsize = (16,8))\n",
        "sns.displot(x='Age', binwidth=10, data=df2, hue='wealth_segment')\n",
        "plt.title('Wealth Segment across age group')\n",
        "plt.savefig('wealth_segment-age_new.png')\n",
        "plt.show()"
      ],
      "metadata": {
        "colab": {
          "base_uri": "https://localhost:8080/",
          "height": 403
        },
        "id": "ZjFDoBqBHDR_",
        "outputId": "76ab8058-ab43-465b-9d24-1034b1bca49f"
      },
      "execution_count": null,
      "outputs": [
        {
          "output_type": "display_data",
          "data": {
            "text/plain": [
              "<Figure size 1152x576 with 0 Axes>"
            ]
          },
          "metadata": {}
        },
        {
          "output_type": "display_data",
          "data": {
            "text/plain": [
              "<Figure size 486.75x360 with 1 Axes>"
            ],
            "image/png": "[encoded data removed]"
          },
          "metadata": {
            "needs_background": "light"
          }
        }
      ]
    },
    {
      "cell_type": "code",
      "source": [
        "plt.figure(figsize = (12,8))\n",
        "sns.countplot(x='state', data=df2, hue='wealth_segment')\n",
        "plt.legend(title='Wealth segment', loc='upper right', fancybox=True)\n",
        "plt.title('Wealth Segment across state')\n",
        "plt.savefig('wealth_segment-state_new.png')\n",
        "plt.show()"
      ],
      "metadata": {
        "colab": {
          "base_uri": "https://localhost:8080/",
          "height": 513
        },
        "id": "6Sp-A5QRHHL7",
        "outputId": "145482ef-7e16-4d17-ab1f-96556612bccd"
      },
      "execution_count": null,
      "outputs": [
        {
          "output_type": "display_data",
          "data": {
            "text/plain": [
              "<Figure size 864x576 with 1 Axes>"
            ],
            "image/png": "[encoded data removed]"
          },
          "metadata": {
            "needs_background": "light"
          }
        }
      ]
    },
    {
      "cell_type": "code",
      "source": [
        "plt.figure(figsize=(16,8))\n",
        "sns.countplot(x='gender', data=df2, hue='job_industry_category', order = df2['gender'].value_counts().index)\n",
        "plt.legend(title='Job industry category', loc='upper right', fancybox=True)\n",
        "plt.title('Job industry category across gender')\n",
        "plt.savefig('job_industry-gender_new.png')\n",
        "plt.show()\n"
      ],
      "metadata": {
        "colab": {
          "base_uri": "https://localhost:8080/",
          "height": 513
        },
        "id": "3i8SzNW6HLTs",
        "outputId": "795bc00f-a7f3-4052-8704-11db8b2e67b9"
      },
      "execution_count": null,
      "outputs": [
        {
          "output_type": "display_data",
          "data": {
            "text/plain": [
              "<Figure size 1152x576 with 1 Axes>"
            ],
            "image/png": "[encoded data removed]"
          },
          "metadata": {
            "needs_background": "light"
          }
        }
      ]
    },
    {
      "cell_type": "code",
      "source": [
        "plt.figure(figsize = (16,8))\n",
        "sns.countplot(x='gender', data=df2, hue='state')\n",
        "plt.legend(title='State', loc='upper right', fancybox=True)\n",
        "plt.title('Number of people of different gender in different state')\n",
        "plt.savefig('state-gender_new.png')\n",
        "plt.show()"
      ],
      "metadata": {
        "colab": {
          "base_uri": "https://localhost:8080/",
          "height": 513
        },
        "id": "fmLw2BUfHOCG",
        "outputId": "fb9cdbbd-aae1-4464-a886-a7f49aceee8f"
      },
      "execution_count": null,
      "outputs": [
        {
          "output_type": "display_data",
          "data": {
            "text/plain": [
              "<Figure size 1152x576 with 1 Axes>"
            ],
            "image/png": "[encoded data removed]"
          },
          "metadata": {
            "needs_background": "light"
          }
        }
      ]
    },
    {
      "cell_type": "code",
      "source": [
        "plt.figure(figsize = (12,8))\n",
        "sns.countplot(x = 'state', data = df2, hue = 'gender')\n",
        "plt.legend(title='State', loc='upper right', fancybox=True)\n",
        "plt.title('Number of people in different state')\n",
        "plt.savefig('gender-state_new.png')\n",
        "plt.show()"
      ],
      "metadata": {
        "colab": {
          "base_uri": "https://localhost:8080/",
          "height": 513
        },
        "id": "aB8RcZjSHREH",
        "outputId": "bc1bc65f-12d6-4090-a11a-7138921aed44"
      },
      "execution_count": null,
      "outputs": [
        {
          "output_type": "display_data",
          "data": {
            "text/plain": [
              "<Figure size 864x576 with 1 Axes>"
            ],
            "image/png": "[encoded data removed]"
          },
          "metadata": {
            "needs_background": "light"
          }
        }
      ]
    },
    {
      "cell_type": "code",
      "source": [
        "plt.figure(figsize = (12,8))\n",
        "sns.countplot(x = 'state', data = df2, hue = 'owns_car')\n",
        "plt.legend(title='State', loc='upper right', fancybox=True)\n",
        "plt.title('Number of people who owns a car in different state')\n",
        "plt.savefig('owns_car-state_new.png')\n",
        "plt.show()"
      ],
      "metadata": {
        "colab": {
          "base_uri": "https://localhost:8080/",
          "height": 513
        },
        "id": "1SDmybVKHT6G",
        "outputId": "06e4548e-bdee-433e-93e8-9269fb685bcd"
      },
      "execution_count": null,
      "outputs": [
        {
          "output_type": "display_data",
          "data": {
            "text/plain": [
              "<Figure size 864x576 with 1 Axes>"
            ],
            "image/png": "[encoded data removed]"
          },
          "metadata": {
            "needs_background": "light"
          }
        }
      ]
    },
    {
      "cell_type": "code",
      "source": [
        "plt.figure(figsize = (12,8))\n",
        "sns.boxplot(x = df2['gender'], y = df2['Age'])\n",
        "plt.title('Boxplot showing the age range of customers')\n",
        "plt.savefig('age_boxplot_new.png')\n",
        "plt.show()"
      ],
      "metadata": {
        "colab": {
          "base_uri": "https://localhost:8080/",
          "height": 513
        },
        "id": "lgOzBFFQHXkd",
        "outputId": "6faa065d-0a5b-4c43-fbf2-d3deb85bbb65"
      },
      "execution_count": null,
      "outputs": [
        {
          "output_type": "display_data",
          "data": {
            "text/plain": [
              "<Figure size 864x576 with 1 Axes>"
            ],
            "image/png": "[encoded data removed]"
          },
          "metadata": {
            "needs_background": "light"
          }
        }
      ]
    },
    {
      "cell_type": "code",
      "source": [
        "#print the final file to excel ready to be used as a data source for dashboard\n",
        "df.to_excel('./current_customers.xlsx', sheet_name='123combine', index=False)\n",
        "df2.to_excel('./target_new_customers.xlsx', sheet_name='4', index=False)"
      ],
      "metadata": {
        "id": "BMfhNqeRHaRx"
      },
      "execution_count": null,
      "outputs": []
    },
    {
      "cell_type": "code",
      "source": [],
      "metadata": {
        "id": "DV_islhEHkIM"
      },
      "execution_count": null,
      "outputs": []
    }
  ]
}